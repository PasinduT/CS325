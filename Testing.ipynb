{
 "cells": [
  {
   "cell_type": "code",
   "execution_count": 3,
   "metadata": {},
   "outputs": [
    {
     "name": "stdout",
     "output_type": "stream",
     "text": [
      "[['Met', 'Ser', 'Asn', 'Pro', 'Gln', 'Lys', 'Ala', 'Leu', 'Asn', 'Asp', 'Phe', 'Leu', 'Ser', 'Ser', 'Glu', 'Ser', 'Val', 'His', 'Thr', 'His', 'Asp', 'Ser', 'Ser', 'Arg', 'Lys', 'Gln', 'Ser', 'Asn', 'Lys', 'Gln', 'Ser', 'Ser', 'Asp', 'Glu', 'Gly', 'Arg', 'Ser', 'Ser', 'Ser', 'Gln', 'Pro', 'Ser', 'His', 'His', 'His', 'Ser', 'Gly', 'Gly', 'Thr', 'Asn', 'Asn', 'Ser', 'Asn', 'Asn', 'Asn', 'Asn', 'Asn', 'Asn', 'Asn', 'Asn', 'Asn', 'Ser', 'Asn', 'Asn', 'Asn', 'Asn', 'Asn', 'Gly', 'Asn', 'Asp', 'Gly', 'Gly', 'Asn', 'Asp', 'Asp', 'Asp', 'Tyr', 'Asp', 'Tyr', 'Glu', 'Met', 'Gln', 'Asp', 'Tyr', 'Arg', 'Pro', 'Ser', 'Pro', 'Gln', 'Ser', 'Ala', 'Arg', 'Pro', 'Thr', 'Pro', 'Thr', 'Tyr', 'Val', 'Pro', 'Gln', 'Tyr', 'Ser', 'Val', 'Glu', 'Ser', 'Gly', 'Thr', 'Ala', 'Phe', 'Pro', 'Ile', 'Gln', 'Glu', 'Val', 'Ile', 'Pro', 'Ser', 'Ala', 'Tyr', 'Ile', 'Asn', 'Thr', 'Gln', 'Asp', 'Ile', 'Asn', 'His', 'Lys', 'Asp', 'Asn', 'Gly', 'Pro', 'Pro', 'Ser', 'Ala', 'Ser', 'Ser', 'Asn', 'Arg', 'Ala', 'Phe', 'Arg', 'Pro', 'Arg', 'Gly', 'Gln', 'Thr', 'Thr', 'Val', 'Ser', 'Ala', 'Asn', 'Val', 'Leu', 'Asn', 'Ile', 'Glu', 'Asp', 'Phe', 'Tyr', 'Lys', 'Asn', 'Ala', 'Asp', 'Asp', 'Ala', 'His', 'Thr', 'Ile', 'Pro', 'Glu', 'Ser', 'His', 'Leu', 'Ser', 'Arg', 'Arg', 'Arg', 'Ser', 'Arg', 'Ser', 'Arg', 'Ala', 'Thr', 'Ser', 'Asn', 'Ala', 'Gly', 'His', 'Ser', 'Ala', 'Asn', 'Thr', 'Gly', 'Ala', 'Thr', 'Asn', 'Gly', 'Arg', 'Thr', 'Thr', 'Gly', 'Ala', 'Gln', 'Thr', 'Asn', 'Met', 'Glu', 'Ser', 'Asn', 'Glu', 'Ser', 'Pro', 'Arg', 'Asn', 'Val', 'Pro', 'Ile', 'Met', 'Val', 'Lys', 'Pro', 'Lys', 'Thr', 'Leu', 'Tyr', 'Gln', 'Asn', 'Pro', 'Gln', 'Thr', 'Pro', 'Thr', 'Val', 'Leu', 'Pro', 'Ser', 'Thr', 'Tyr', 'His', 'Pro', 'Ile', 'Asn', 'Lys', 'Trp', 'Ser', 'Ser', 'Val', 'Lys', 'Asn', 'Thr', 'Tyr', 'Leu', 'Lys', 'Glu', 'Phe', 'Leu', 'Ala', 'Glu', 'Phe', 'Met', 'Gly', 'Thr', 'Met', 'Val', 'Met', 'Ile', 'Ile', 'Phe', 'Gly', 'Ser', 'Ala', 'Val', 'Val', 'Cys', 'Gln', 'Val', 'Asn', 'Val', 'Ala', 'Gly', 'Lys', 'Ile', 'Gln', 'Gln', 'Asp', 'Asn', 'Phe', 'Asn', 'Val', 'Ala', 'Leu', 'Asp', 'Asn', 'Leu', 'Asn', 'Val', 'Thr', 'Gly', 'Ser', 'Ser', 'Ala', 'Glu', 'Thr', 'Ile', 'Asp', 'Ala', 'Met', 'Lys', 'Ser', 'Leu', 'Thr', 'Ser', 'Leu', 'Val', 'Ser', 'Ser', 'Val', 'Ala', 'Gly', 'Gly', 'Thr', 'Phe', 'Asp', 'Asp', 'Val', 'Ala', 'Leu', 'Gly', 'Trp', 'Ala', 'Ala', 'Ala', 'Val', 'Val', 'Met', 'Gly', 'Tyr', 'Phe', 'Cys', 'Ala', 'Gly', 'Gly', 'Ser', 'Ala', 'Ile', 'Ser', 'Gly', 'Ala', 'His', 'Leu', 'Asn', 'Pro', 'Ser', 'Ile', 'Thr', 'Leu', 'Ala', 'Asn', 'Leu', 'Val', 'Tyr', 'Arg', 'Gly', 'Phe', 'Pro', 'Leu', 'Lys', 'Lys', 'Val', 'Pro', 'Tyr', 'Tyr', 'Phe', 'Ala', 'Gly', 'Gln', 'Leu', 'Ile', 'Gly', 'Ala', 'Phe', 'Thr', 'Gly', 'Ala', 'Leu', 'Ile', 'Leu', 'Phe', 'Ile', 'Trp', 'Tyr', 'His', 'Arg', 'Val', 'Leu', 'Gln', 'Glu', 'Ala', 'Tyr', 'Ser', 'Asp', 'Trp', 'Trp', 'Met', 'Asn', 'Glu', 'Ser', 'Val', 'Ala', 'Gly', 'Met', 'Phe', 'Cys', 'Val', 'Phe', 'Pro', 'Lys', 'Pro', 'Tyr', 'Leu', 'Ser', 'Ser', 'Gly', 'Arg', 'Gln', 'Phe', 'Phe', 'Ser', 'Glu', 'Phe', 'Leu', 'Cys', 'Gly', 'Ala', 'Met', 'Leu', 'Gln', 'Ala', 'Gly', 'Thr', 'Phe', 'Ala', 'Leu', 'Thr', 'Asp', 'Pro', 'Tyr', 'Thr', 'Cys', 'Leu', 'Ser', 'Ser', 'Asp', 'Val', 'Phe', 'Pro', 'Leu', 'Met', 'Met', 'Phe', 'Ile', 'Leu', 'Ile', 'Phe', 'Ile', 'Ile', 'Asn', 'Ala', 'Ser', 'Met', 'Ala', 'Tyr', 'Gln', 'Thr', 'Gly', 'Thr', 'Ala', 'Met', 'Asn', 'Leu', 'Ala', 'Arg', 'Asp', 'Leu', 'Gly', 'Pro', 'Arg', 'Leu', 'Ala', 'Leu', 'Tyr', 'Ala', 'Val', 'Gly', 'Phe', 'Asp', 'His', 'Lys', 'Met', 'Leu', 'Trp', 'Val', 'His', 'His', 'His', 'His', 'Phe', 'Phe', 'Trp', 'Val', 'Pro', 'Met', 'Val', 'Gly', 'Pro', 'Phe', 'Ile', 'Gly', 'Ala', 'Leu', 'Met', 'Gly', 'Gly', 'Leu', 'Val', 'Tyr', 'Glu', 'Val', 'Cys', 'Ile', 'Tyr', 'Gln', 'Gly', 'His', 'Glu', 'Ser', 'Pro', 'Val', 'Asn', 'Trp', 'Ser', 'Leu', 'Pro', 'Val', 'Tyr', 'Lys', 'Glu', 'Met', 'Ile', 'Met', 'Arg', 'Ala', 'Trp', 'Phe', 'Arg', 'Arg', 'Pro', 'Gly', 'Trp', 'Lys', 'Lys', 'Arg', 'Asn', 'Arg', 'Ala', 'Arg', 'Arg', 'Thr', 'Ser', 'Asp', 'Leu', 'Ser', 'Asp', 'Phe', 'Ser', 'Tyr', 'Asn', 'Asn', 'Asp', 'Asp', 'Asp', 'Glu', 'Glu', 'Phe', 'Gly', 'Glu', 'Arg', 'Met', 'Ala', 'Leu', 'Gln', 'Lys', 'Thr', 'Lys', 'Thr', 'Lys', 'Ser', 'Ser', 'Ile', 'Ser', 'Asp', 'Asn', 'Glu', 'Asn', 'Glu', 'Ala', 'Gly', 'Glu', 'Lys', 'Lys', 'Val', 'Gln', 'Phe', 'Lys', 'Ser', 'Val', 'Gln', 'Arg', 'Gly', 'Lys', 'Arg', 'Thr', 'Phe', 'Gly', 'Gly', 'Ile', 'Pro', 'Thr', 'Ile', 'Leu', 'Glu', 'Glu', 'Glu', 'Asp', 'Ser', 'Ile', 'Glu', 'Thr', 'Ala', 'Ser', 'Leu', 'Gly', 'Ala', 'Thr', 'Thr', 'Thr', 'Asp', 'Ser', 'Ile', 'Gly', 'Leu', 'Ser', 'Asp', 'Thr', 'Ser', 'Ser', 'Glu', 'Asp', 'Ser', 'His', 'Tyr', 'Gly', 'Asn', 'Ala', 'Lys', 'Lys', 'Val', 'Thr', 'Stop'], ['Met', 'Ser', 'Ile', 'Arg', 'Leu', 'Pro', 'Tyr', 'Ala', 'Val', 'Val', 'Ala', 'Ala', 'Asp', 'Leu', 'Asp', 'Gly', 'Ser', 'Leu', 'Leu', 'Thr', 'Leu', 'Glu', 'Ser', 'Arg', 'Ile', 'Ser', 'Ala', 'Arg', 'Ala', 'Lys', 'Ala', 'Thr', 'Leu', 'Gln', 'Arg', 'Leu', 'Ser', 'Ala', 'Lys', 'Gly', 'Val', 'His', 'Val', 'Val', 'Leu', 'Ala', 'Thr', 'Gly', 'Arg', 'His', 'Tyr', 'Pro', 'Glu', 'Val', 'Ala', 'Ile', 'Ile', 'Leu', 'Glu', 'Lys', 'Leu', 'Glu', 'Leu', 'Pro', 'Arg', 'Pro', 'Gly', 'Phe', 'Phe', 'Ile', 'Ala', 'Cys', 'Asn', 'Gly', 'Ala', 'Lys', 'Ala', 'Leu', 'Met', 'Gly', 'Gly', 'Asn', 'Thr', 'Phe', 'Pro', 'Ser', 'Ser', 'Arg', 'Ala', 'Ser', 'Gly', 'His', 'Gly', 'Asp', 'Val', 'Gly', 'Phe', 'Leu', 'Leu', 'Glu', 'Ser', 'Asp', 'Ile', 'Asp', 'Pro', 'Asp', 'Val', 'Val', 'Cys', 'Ser', 'Ile', 'Leu', 'Gln', 'Leu', 'Leu', 'Pro', 'Asp', 'Asp', 'Glu', 'Glu', 'Glu', 'Val', 'Asn', 'Thr', 'Asn', 'Leu', 'Phe', 'Gln', 'Ala', 'Asp', 'Glu', 'Trp', 'Lys', 'Ser', 'Ser', 'Leu', 'Asp', 'Trp', 'Leu', 'Asp', 'Gln', 'Leu', 'Arg', 'Tyr', 'His', 'Gln', 'Glu', 'Ser', 'Gly', 'Phe', 'Arg', 'Tyr', 'Ser', 'Val', 'Val', 'Lys', 'Pro', 'Arg', 'Thr', 'Leu', 'Val', 'Glu', 'Gln', 'Tyr', 'Arg', 'Leu', 'Tyr', 'Leu', 'Gln', 'Gln', 'Arg', 'Gly', 'Gly', 'Gly', 'Pro', 'Ser', 'Asn', 'Thr', 'Ser', 'Phe', 'Gln', 'Asn', 'Pro', 'Leu', 'Val', 'Lys', 'Val', 'Ala', 'Lys', 'Ile', 'Ala', 'Phe', 'Ile', 'Ser', 'Asp', 'Asn', 'Ser', 'Glu', 'Arg', 'Leu', 'Tyr', 'Glu', 'Leu', 'Trp', 'Lys', 'Arg', 'Ile', 'Arg', 'Val', 'Asp', 'Phe', 'Lys', 'Gly', 'Lys', 'Val', 'Glu', 'Val', 'Ala', 'Leu', 'Ser', 'Ser', 'Tyr', 'Cys', 'Leu', 'Asp', 'Val', 'Cys', 'Asn', 'Ala', 'Gly', 'Val', 'Thr', 'Lys', 'Gly', 'Asn', 'Ala', 'Ile', 'Lys', 'Gln', 'Leu', 'Leu', 'Pro', 'Arg', 'Leu', 'Gly', 'His', 'Asp', 'Gly', 'Ala', 'Pro', 'Val', 'Ser', 'Leu', 'Ala', 'Glu', 'Cys', 'Ile', 'Ala', 'Phe', 'Gly', 'Asp', 'Gly', 'Met', 'Asn', 'Asp', 'Lys', 'Glu', 'Met', 'Leu', 'Glu', 'Thr', 'Val', 'Gly', 'Lys', 'Gly', 'Cys', 'Ile', 'Met', 'Ser', 'Asn', 'Ala', 'Ser', 'Gln', 'Gln', 'Leu', 'Lys', 'Glu', 'Ala', 'Leu', 'Pro', 'His', 'Leu', 'Glu', 'Val', 'Ile', 'Gly', 'Ser', 'Asn', 'Ala', 'Thr', 'Asp', 'Val', 'Ile', 'Ala', 'Asn', 'Lys', 'Leu', 'Ser', 'Ser', 'Val', 'Phe', 'Glu', 'Leu', 'Asp', 'Stop'], ['Met', 'Ala', 'Ser', 'Ser', 'Ala', 'Ala', 'Val', 'Val', 'Glu', 'Ile', 'Ile', 'Asp', 'Glu', 'Asp', 'Asp', 'Asp', 'Asp', 'Thr', 'Ala', 'Ala', 'Ala', 'Thr', 'Pro', 'Leu', 'Ala', 'Val', 'His', 'Lys', 'Arg', 'Ser', 'His', 'Ala', 'Leu', 'Ala', 'Ala', 'Ala', 'Thr', 'Thr', 'Ala', 'Pro', 'Gly', 'Pro', 'Pro', 'Pro', 'Val', 'Asp', 'Ala', 'Ser', 'Arg', 'Ser', 'Val', 'Ser', 'Ala', 'Val', 'Ala', 'Asp', 'Thr', 'Pro', 'Arg', 'Ser', 'Ser', 'Val', 'Pro', 'Cys', 'Ser', 'Leu', 'Gly', 'Asn', 'Arg', 'Ala', 'Val', 'Ala', 'Asp', 'Asp', 'Thr', 'Pro', 'Asn', 'Ser', 'Val', 'Leu', 'Pro', 'Ser', 'Pro', 'Ser', 'His', 'Phe', 'Gly', 'Val', 'Ala', 'Asp', 'Ser', 'Ala', 'Thr', 'Pro', 'Arg', 'Ser', 'Asp', 'Val', 'Pro', 'Cys', 'Ser', 'Ile', 'Gly', 'Pro', 'Ala', 'Asp', 'Val', 'Val', 'Pro', 'Glu', 'Thr', 'Pro', 'Gly', 'Leu', 'Ala', 'Val', 'Pro', 'Arg', 'Leu', 'Ala', 'Ala', 'Pro', 'Pro', 'Ser', 'Val', 'Pro', 'Ala', 'Leu', 'Pro', 'Ser', 'Leu', 'Ala', 'Thr', 'Ala', 'Arg', 'Lys', 'Phe', 'Ser', 'Gly', 'Val', 'Pro', 'Cys', 'Pro', 'Ile', 'Ser', 'Leu', 'Asp', 'Ser', 'Asp', 'Glu', 'Glu', 'Leu', 'Asp', 'Asp', 'Thr', 'Leu', 'Ser', 'Arg', 'Glu', 'Asp', 'Leu', 'Thr', 'Lys', 'Ser', 'Pro', 'Ser', 'Asn', 'Met', 'Ala', 'Lys', 'Pro', 'Glu', 'Cys', 'Val', 'Ile', 'Gln', 'Pro', 'Trp', 'Thr', 'Ser', 'Ser', 'Cys', 'Thr', 'Asp', 'Lys', 'Val', 'Asp', 'Gly', 'Ala', 'Ser', 'Ser', 'Thr', 'Asp', 'Gln', 'Asn', 'Asn', 'Tyr', 'Ser', 'Lys', 'Ser', 'Tyr', 'Val', 'Glu', 'His', 'Gln', 'Ile', 'Pro', 'Leu', 'Ser', 'Gly', 'Cys', 'Lys', 'Asn', 'Tyr', 'Gly', 'Thr', 'Thr', 'Ser', 'Tyr', 'His', 'Gln', 'Pro', 'Leu', 'His', 'Ala', 'Asn', 'Phe', 'Pro', 'Arg', 'Glu', 'Asp', 'Ser', 'Ile', 'Leu', 'Lys', 'Glu', 'Ala', 'Asp', 'Pro', 'Phe', 'Thr', 'Asn', 'Lys', 'His', 'Cys', 'Pro', 'Gln', 'Glu', 'Glu', 'Asn', 'Val', 'Leu', 'Pro', 'Ile', 'Glu', 'Glu', 'Arg', 'Lys', 'Lys', 'Lys', 'Gln', 'Gln', 'Glu', 'Glu', 'Lys', 'Lys', 'Leu', 'Lys', 'Met', 'Glu', 'Lys', 'Lys', 'Ala', 'Arg', 'Leu', 'Met', 'Glu', 'Glu', 'Lys', 'Lys', 'Gln', 'Lys', 'Arg', 'Leu', 'Glu', 'Ser', 'Lys', 'Arg', 'Gln', 'Lys', 'Glu', 'Ala', 'Met', 'Lys', 'Ala', 'Glu', 'Gln', 'Ala', 'Ala', 'Leu', 'Lys', 'Lys', 'Leu', 'Asp', 'Lys', 'Glu', 'Lys', 'Arg', 'Lys', 'Trp', 'Glu', 'Ser', 'Gly', 'Lys', 'Phe', 'Ala', 'Thr', 'Lys', 'Ser', 'Ile', 'Val', 'Ile', 'Glu', 'Ile', 'Asp', 'Ser', 'Ser', 'Val', 'Ile', 'Glu', 'Ser', 'Gly', 'Ser', 'Val', 'Gly', 'Gly', 'His', 'Leu', 'Val', 'Gln', 'Arg', 'Phe', 'Ala', 'Glu', 'Lys', 'Gly', 'Leu', 'Leu', 'Tyr', 'Arg', 'Val', 'Thr', 'Ser', 'Asn', 'Ser', 'Ile', 'Arg', 'Gly', 'Ser', 'Ile', 'Leu', 'Trp', 'Asn', 'Met', 'Lys', 'Ile', 'Pro', 'Asp', 'Glu', 'Ile', 'Thr', 'Gln', 'Asn', 'Gln', 'Ala', 'Ser', 'Thr', 'Leu', 'Glu', 'Val', 'Pro', 'Tyr', 'Ile', 'Ile', 'Phe', 'Val', 'Leu', 'Gln', 'Ala', 'Glu', 'Glu', 'Phe', 'Cys', 'Asp', 'Leu', 'Val', 'Thr', 'Ala', 'Gly', 'Thr', 'Leu', 'Leu', 'Asp', 'His', 'Val', 'His', 'Lys', 'Val', 'Arg', 'Ser', 'Gln', 'Tyr', 'Pro', 'Glu', 'Phe', 'Thr', 'Ile', 'Cys', 'Tyr', 'Val', 'Thr', 'Asn', 'Lys', 'Leu', 'Met', 'Ser', 'Tyr', 'Ile', 'Lys', 'Arg', 'Arg', 'Glu', 'Gln', 'Ser', 'Gln', 'Tyr', 'Asn', 'Lys', 'Asn', 'Val', 'Pro', 'Asn', 'Ser', 'Asn', 'Gly', 'Trp', 'Lys', 'Arg', 'Pro', 'Pro', 'Val', 'Glu', 'Glu', 'Gly', 'Leu', 'Cys', 'Lys', 'Leu', 'Ala', 'Thr', 'Asp', 'Cys', 'Val', 'Arg', 'Val', 'His', 'Ser', 'Arg', 'Gln', 'Cys', 'Thr', 'Asp', 'Glu', 'Ala', 'Glu', 'Val', 'Ala', 'Glu', 'His', 'Val', 'Val', 'Gly', 'Leu', 'Thr', 'Tyr', 'Ser', 'Leu', 'Ala', 'Asn', 'Cys', 'Lys', 'Phe', 'Arg', 'His', 'Pro', 'Leu', 'Thr', 'Trp', 'Leu', 'Ser', 'Val', 'His', 'Ala', 'Asn', 'Gly', 'Ser', 'Ser', 'Ile', 'Lys', 'Gly', 'Ile', 'Glu', 'Lys', 'Asp', 'Lys', 'Ile', 'Lys', 'Lys', 'Ser', 'Pro', 'Trp', 'Leu', 'Lys', 'Ser', 'Leu', 'Val', 'Ala', 'Ile', 'Pro', 'Arg', 'Val', 'Asn', 'Pro', 'Gly', 'His', 'Ala', 'Ile', 'Ala', 'Ile', 'Glu', 'Lys', 'Lys', 'Tyr', 'Pro', 'Ser', 'Met', 'Arg', 'Ser', 'Leu', 'Leu', 'Asn', 'Val', 'Tyr', 'Met', 'Asp', 'Asp', 'Asn', 'Lys', 'Ser', 'Val', 'His', 'Glu', 'Lys', 'Glu', 'His', 'Leu', 'Leu', 'Glu', 'Asp', 'Leu', 'Met', 'Leu', 'Glu', 'Gly', 'Pro', 'Leu', 'Gly', 'Asp', 'Leu', 'Asn', 'Arg', 'Arg', 'Leu', 'Gly', 'Pro', 'Ala', 'Cys', 'Ser', 'Lys', 'Arg', 'Val', 'Tyr', 'Arg', 'Ile', 'Leu', 'Met', 'Ala', 'Gln', 'Asn', 'Gly', 'Ala', 'Ala', 'Glu', 'Val', 'Glu', 'Ala', 'Asp', 'Lys', 'Arg', 'Stop', 'Gln', 'Trp', 'Ser', 'Leu', 'Ala', 'Lys', 'Ala', 'Phe', 'His', 'Ala', 'His', 'Cys', 'Tyr', 'Lys', 'Ser', 'Stop', 'Lys', 'Val', 'Asp', 'Val', 'Leu', 'Phe', 'Met', 'Ala', 'Leu', 'Leu', 'Phe', 'Ile', 'Leu', 'Phe', 'Arg', 'Stop', 'Ser', 'Phe', 'Lys', 'Val', 'Val', 'His', 'Thr', 'Met', 'Phe', 'Leu', 'Val', 'Leu', 'Lys', 'Pro', 'Leu', 'Leu', 'Ser', 'Met', 'Ala', 'Gly', 'Ala', 'Leu', 'Val', 'Cys', 'Ser', 'Leu', 'Val', 'Ile', 'Glu', 'Val', 'Ile', 'Ile', 'Thr', 'Stop', 'Arg', 'Thr', 'Trp', 'Asn', 'Leu', 'Leu', 'Leu', 'Asp', 'Ile']]\n"
     ]
    }
   ],
   "source": [
    "#Reads RNA in FASTA format from a file\n",
    "#Parameter filename: A string containing the relative path of the file from where\n",
    "#this program is stored\n",
    "#Return: The RNA sequences contained in the file in list format\n",
    "def readFile(filename):\n",
    "    f = open(filename, \"r\")\n",
    "    genes = []\n",
    "    for x in f:\n",
    "        if x is not \"\\n\":\n",
    "            genes.append(f.readline())\n",
    "    f.close()\n",
    "    return genes\n",
    "\n",
    "#Sets up a dictionary that matches 3 RNA nucleotides to their corresponding\n",
    "#amino acid or to Stop\n",
    "#Return: The dictionary after being set up\n",
    "def setUpTable():\n",
    "    table = {}\n",
    "    for key in [\"UUU\", \"UUC\"]:\n",
    "        table[key] = \"Phe\"\n",
    "    for key in [\"UUA\", \"UUG\", \"CUU\", \"CUC\", \"CUA\", \"CUG\"]:\n",
    "        table[key] = \"Leu\"\n",
    "    for key in [\"AUU\", \"AUC\", \"AUA\"]:\n",
    "        table[key] = \"Ile\"\n",
    "    for key in [\"AUG\"]:\n",
    "        table[key] = \"Met\"\n",
    "    for key in [\"GUU\", \"GUC\", \"GUA\", \"GUG\"]:\n",
    "        table[key] = \"Val\"\n",
    "    for key in [\"UCU\", \"UCC\", \"UCA\", \"UCG\", \"AGU\", \"AGC\"]:\n",
    "        table[key] = \"Ser\"\n",
    "    for key in [\"CCU\", \"CCC\", \"CCA\", \"CCG\"]:\n",
    "        table[key] = \"Pro\"\n",
    "    for key in [\"ACU\", \"ACC\", \"ACA\", \"ACG\"]:\n",
    "        table[key] = \"Thr\"\n",
    "    for key in [\"GCU\", \"GCC\", \"GCA\", \"GCG\"]:\n",
    "        table[key] = \"Ala\"\n",
    "    for key in [\"UAU\", \"UAC\"]:\n",
    "        table[key] = \"Tyr\"\n",
    "    for key in [\"CAU\", \"CAC\"]:\n",
    "        table[key] = \"His\"\n",
    "    for key in [\"CAA\", \"CAG\"]:\n",
    "        table[key] = \"Gln\"\n",
    "    for key in [\"AAU\", \"AAC\"]:\n",
    "        table[key] = \"Asn\"\n",
    "    for key in [\"AAA\", \"AAG\"]:\n",
    "        table[key] = \"Lys\"\n",
    "    for key in [\"GAU\", \"GAC\"]:\n",
    "        table[key] = \"Asp\"\n",
    "    for key in [\"GAA\", \"GAG\"]:\n",
    "        table[key] = \"Glu\"\n",
    "    for key in [\"UGU\", \"UGC\"]:\n",
    "        table[key] = \"Cys\"\n",
    "    for key in [\"UGG\"]:\n",
    "        table[key] = \"Trp\"\n",
    "    for key in [\"CGU\", \"CGC\", \"CGA\", \"CGG\", \"AGA\", \"AGG\"]:\n",
    "        table[key] = \"Arg\"\n",
    "    for key in [\"GGU\", \"GGC\", \"GGA\", \"GGG\"]:\n",
    "        table[key] = \"Gly\"\n",
    "    for key in [\"UAA\", \"UAG\", \"UGA\"]:\n",
    "        table[key] = \"Stop\"\n",
    "    return table\n",
    "\n",
    "#Converts an RNA sequence into the corresponding amino acid sequence. Does not\n",
    "#yet handle stop codons besides adding stop\n",
    "#Parameter RNA: The RNA sequence in string format\n",
    "#Parameter table: The dictionary that pairs RNA to amino acids\n",
    "#Return: A string containing the amino acid sequence\n",
    "def convertToAAs(RNA, table):\n",
    "    seq = []\n",
    "    current = 0\n",
    "    while current + 2 < len(RNA):\n",
    "        seq.append(table[RNA[current:current + 3]])\n",
    "        current += 3\n",
    "    return seq\n",
    "\n",
    "#Main\n",
    "genes = readFile(\"Assignment1Sequences.txt\")\n",
    "AATable = setUpTable()\n",
    "AASeqs = []\n",
    "for gene in genes:\n",
    "    AASeqs.append(convertToAAs(gene, AATable))\n",
    "print(AASeqs)"
   ]
  },
  {
   "cell_type": "code",
   "execution_count": 4,
   "metadata": {},
   "outputs": [
    {
     "name": "stdout",
     "output_type": "stream",
     "text": [
      "['Met', 'Ala', 'Ser', 'Ser', 'Ala', 'Ala', 'Val', 'Val', 'Glu', 'Ile', 'Ile', 'Asp', 'Glu', 'Asp', 'Asp', 'Asp', 'Asp', 'Thr', 'Ala', 'Ala', 'Ala', 'Thr', 'Pro', 'Leu', 'Ala', 'Val', 'His', 'Lys', 'Arg', 'Ser', 'His', 'Ala', 'Leu', 'Ala', 'Ala', 'Ala', 'Thr', 'Thr', 'Ala', 'Pro', 'Gly', 'Pro', 'Pro', 'Pro', 'Val', 'Asp', 'Ala', 'Ser', 'Arg', 'Ser', 'Val', 'Ser', 'Ala', 'Val', 'Ala', 'Asp', 'Thr', 'Pro', 'Arg', 'Ser', 'Ser', 'Val', 'Pro', 'Cys', 'Ser', 'Leu', 'Gly', 'Asn', 'Arg', 'Ala', 'Val', 'Ala', 'Asp', 'Asp', 'Thr', 'Pro', 'Asn', 'Ser', 'Val', 'Leu', 'Pro', 'Ser', 'Pro', 'Ser', 'His', 'Phe', 'Gly', 'Val', 'Ala', 'Asp', 'Ser', 'Ala', 'Thr', 'Pro', 'Arg', 'Ser', 'Asp', 'Val', 'Pro', 'Cys', 'Ser', 'Ile', 'Gly', 'Pro', 'Ala', 'Asp', 'Val', 'Val', 'Pro', 'Glu', 'Thr', 'Pro', 'Gly', 'Leu', 'Ala', 'Val', 'Pro', 'Arg', 'Leu', 'Ala', 'Ala', 'Pro', 'Pro', 'Ser', 'Val', 'Pro', 'Ala', 'Leu', 'Pro', 'Ser', 'Leu', 'Ala', 'Thr', 'Ala', 'Arg', 'Lys', 'Phe', 'Ser', 'Gly', 'Val', 'Pro', 'Cys', 'Pro', 'Ile', 'Ser', 'Leu', 'Asp', 'Ser', 'Asp', 'Glu', 'Glu', 'Leu', 'Asp', 'Asp', 'Thr', 'Leu', 'Ser', 'Arg', 'Glu', 'Asp', 'Leu', 'Thr', 'Lys', 'Ser', 'Pro', 'Ser', 'Asn', 'Met', 'Ala', 'Lys', 'Pro', 'Glu', 'Cys', 'Val', 'Ile', 'Gln', 'Pro', 'Trp', 'Thr', 'Ser', 'Ser', 'Cys', 'Thr', 'Asp', 'Lys', 'Val', 'Asp', 'Gly', 'Ala', 'Ser', 'Ser', 'Thr', 'Asp', 'Gln', 'Asn', 'Asn', 'Tyr', 'Ser', 'Lys', 'Ser', 'Tyr', 'Val', 'Glu', 'His', 'Gln', 'Ile', 'Pro', 'Leu', 'Ser', 'Gly', 'Cys', 'Lys', 'Asn', 'Tyr', 'Gly', 'Thr', 'Thr', 'Ser', 'Tyr', 'His', 'Gln', 'Pro', 'Leu', 'His', 'Ala', 'Asn', 'Phe', 'Pro', 'Arg', 'Glu', 'Asp', 'Ser', 'Ile', 'Leu', 'Lys', 'Glu', 'Ala', 'Asp', 'Pro', 'Phe', 'Thr', 'Asn', 'Lys', 'His', 'Cys', 'Pro', 'Gln', 'Glu', 'Glu', 'Asn', 'Val', 'Leu', 'Pro', 'Ile', 'Glu', 'Glu', 'Arg', 'Lys', 'Lys', 'Lys', 'Gln', 'Gln', 'Glu', 'Glu', 'Lys', 'Lys', 'Leu', 'Lys', 'Met', 'Glu', 'Lys', 'Lys', 'Ala', 'Arg', 'Leu', 'Met', 'Glu', 'Glu', 'Lys', 'Lys', 'Gln', 'Lys', 'Arg', 'Leu', 'Glu', 'Ser', 'Lys', 'Arg', 'Gln', 'Lys', 'Glu', 'Ala', 'Met', 'Lys', 'Ala', 'Glu', 'Gln', 'Ala', 'Ala', 'Leu', 'Lys', 'Lys', 'Leu', 'Asp', 'Lys', 'Glu', 'Lys', 'Arg', 'Lys', 'Trp', 'Glu', 'Ser', 'Gly', 'Lys', 'Phe', 'Ala', 'Thr', 'Lys', 'Ser', 'Ile', 'Val', 'Ile', 'Glu', 'Ile', 'Asp', 'Ser', 'Ser', 'Val', 'Ile', 'Glu', 'Ser', 'Gly', 'Ser', 'Val', 'Gly', 'Gly', 'His', 'Leu', 'Val', 'Gln', 'Arg', 'Phe', 'Ala', 'Glu', 'Lys', 'Gly', 'Leu', 'Leu', 'Tyr', 'Arg', 'Val', 'Thr', 'Ser', 'Asn', 'Ser', 'Ile', 'Arg', 'Gly', 'Ser', 'Ile', 'Leu', 'Trp', 'Asn', 'Met', 'Lys', 'Ile', 'Pro', 'Asp', 'Glu', 'Ile', 'Thr', 'Gln', 'Asn', 'Gln', 'Ala', 'Ser', 'Thr', 'Leu', 'Glu', 'Val', 'Pro', 'Tyr', 'Ile', 'Ile', 'Phe', 'Val', 'Leu', 'Gln', 'Ala', 'Glu', 'Glu', 'Phe', 'Cys', 'Asp', 'Leu', 'Val', 'Thr', 'Ala', 'Gly', 'Thr', 'Leu', 'Leu', 'Asp', 'His', 'Val', 'His', 'Lys', 'Val', 'Arg', 'Ser', 'Gln', 'Tyr', 'Pro', 'Glu', 'Phe', 'Thr', 'Ile', 'Cys', 'Tyr', 'Val', 'Thr', 'Asn', 'Lys', 'Leu', 'Met', 'Ser', 'Tyr', 'Ile', 'Lys', 'Arg', 'Arg', 'Glu', 'Gln', 'Ser', 'Gln', 'Tyr', 'Asn', 'Lys', 'Asn', 'Val', 'Pro', 'Asn', 'Ser', 'Asn', 'Gly', 'Trp', 'Lys', 'Arg', 'Pro', 'Pro', 'Val', 'Glu', 'Glu', 'Gly', 'Leu', 'Cys', 'Lys', 'Leu', 'Ala', 'Thr', 'Asp', 'Cys', 'Val', 'Arg', 'Val', 'His', 'Ser', 'Arg', 'Gln', 'Cys', 'Thr', 'Asp', 'Glu', 'Ala', 'Glu', 'Val', 'Ala', 'Glu', 'His', 'Val', 'Val', 'Gly', 'Leu', 'Thr', 'Tyr', 'Ser', 'Leu', 'Ala', 'Asn', 'Cys', 'Lys', 'Phe', 'Arg', 'His', 'Pro', 'Leu', 'Thr', 'Trp', 'Leu', 'Ser', 'Val', 'His', 'Ala', 'Asn', 'Gly', 'Ser', 'Ser', 'Ile', 'Lys', 'Gly', 'Ile', 'Glu', 'Lys', 'Asp', 'Lys', 'Ile', 'Lys', 'Lys', 'Ser', 'Pro', 'Trp', 'Leu', 'Lys', 'Ser', 'Leu', 'Val', 'Ala', 'Ile', 'Pro', 'Arg', 'Val', 'Asn', 'Pro', 'Gly', 'His', 'Ala', 'Ile', 'Ala', 'Ile', 'Glu', 'Lys', 'Lys', 'Tyr', 'Pro', 'Ser', 'Met', 'Arg', 'Ser', 'Leu', 'Leu', 'Asn', 'Val', 'Tyr', 'Met', 'Asp', 'Asp', 'Asn', 'Lys', 'Ser', 'Val', 'His', 'Glu', 'Lys', 'Glu', 'His', 'Leu', 'Leu', 'Glu', 'Asp', 'Leu', 'Met', 'Leu', 'Glu', 'Gly', 'Pro', 'Leu', 'Gly', 'Asp', 'Leu', 'Asn', 'Arg', 'Arg', 'Leu', 'Gly', 'Pro', 'Ala', 'Cys', 'Ser', 'Lys', 'Arg', 'Val', 'Tyr', 'Arg', 'Ile', 'Leu', 'Met', 'Ala', 'Gln', 'Asn', 'Gly', 'Ala', 'Ala', 'Glu', 'Val', 'Glu', 'Ala', 'Asp', 'Lys', 'Arg', 'Stop', 'Gln', 'Trp', 'Ser', 'Leu', 'Ala', 'Lys', 'Ala', 'Phe', 'His', 'Ala', 'His', 'Cys', 'Tyr', 'Lys', 'Ser', 'Stop', 'Lys', 'Val', 'Asp', 'Val', 'Leu', 'Phe', 'Met', 'Ala', 'Leu', 'Leu', 'Phe', 'Ile', 'Leu', 'Phe', 'Arg', 'Stop', 'Ser', 'Phe', 'Lys', 'Val', 'Val', 'His', 'Thr', 'Met', 'Phe', 'Leu', 'Val', 'Leu', 'Lys', 'Pro', 'Leu', 'Leu', 'Ser', 'Met', 'Ala', 'Gly', 'Ala', 'Leu', 'Val', 'Cys', 'Ser', 'Leu', 'Val', 'Ile', 'Glu', 'Val', 'Ile', 'Ile', 'Thr', 'Stop', 'Arg', 'Thr', 'Trp', 'Asn', 'Leu', 'Leu', 'Leu', 'Asp', 'Ile']\n"
     ]
    }
   ],
   "source": [
    "print(AASeqs[2])"
   ]
  },
  {
   "cell_type": "code",
   "execution_count": 6,
   "metadata": {},
   "outputs": [
    {
     "name": "stdout",
     "output_type": "stream",
     "text": [
      "1......................................................................................................................................................................1....................................................................................................1......1................1......................................................................1............................................................1........................................................................................................................1.......1................1........................1.............2...............2......1........2.......1.........1...............2.........\n"
     ]
    }
   ],
   "source": [
    "gene3 = AASeqs[2]\n",
    "fstring = \"\"\n",
    "for aa in gene3:\n",
    "    if aa == 'Met':\n",
    "        fstring += '1'\n",
    "    elif aa == 'Stop':\n",
    "        fstring += '2'\n",
    "    else:\n",
    "        fstring += '.'\n",
    "        \n",
    "print(fstring)"
   ]
  },
  {
   "cell_type": "code",
   "execution_count": 26,
   "metadata": {},
   "outputs": [
    {
     "name": "stdout",
     "output_type": "stream",
     "text": [
      "['Met', 'Ser', 'Asn', 'Pro', 'Gln', 'Lys', 'Ala', 'Leu', 'Asn', 'Asp', 'Phe', 'Leu', 'Ser', 'Ser', 'Glu', 'Ser', 'Val', 'His', 'Thr', 'His', 'Asp', 'Ser', 'Ser', 'Arg', 'Lys', 'Gln', 'Ser', 'Asn', 'Lys', 'Gln', 'Ser', 'Ser', 'Asp', 'Glu', 'Gly', 'Arg', 'Ser', 'Ser', 'Ser', 'Gln', 'Pro', 'Ser', 'His', 'His', 'His', 'Ser', 'Gly', 'Gly', 'Thr', 'Asn', 'Asn', 'Ser', 'Asn', 'Asn', 'Asn', 'Asn', 'Asn', 'Asn', 'Asn', 'Asn', 'Asn', 'Ser', 'Asn', 'Asn', 'Asn', 'Asn', 'Asn', 'Gly', 'Asn', 'Asp', 'Gly', 'Gly', 'Asn', 'Asp', 'Asp', 'Asp', 'Tyr', 'Asp', 'Tyr', 'Glu', 'Met', 'Gln', 'Asp', 'Tyr', 'Arg', 'Pro', 'Ser', 'Pro', 'Gln', 'Ser', 'Ala', 'Arg', 'Pro', 'Thr', 'Pro', 'Thr', 'Tyr', 'Val', 'Pro', 'Gln', 'Tyr', 'Ser', 'Val', 'Glu', 'Ser', 'Gly', 'Thr', 'Ala', 'Phe', 'Pro', 'Ile', 'Gln', 'Glu', 'Val', 'Ile', 'Pro', 'Ser', 'Ala', 'Tyr', 'Ile', 'Asn', 'Thr', 'Gln', 'Asp', 'Ile', 'Asn', 'His', 'Lys', 'Asp', 'Asn', 'Gly', 'Pro', 'Pro', 'Ser', 'Ala', 'Ser', 'Ser', 'Asn', 'Arg', 'Ala', 'Phe', 'Arg', 'Pro', 'Arg', 'Gly', 'Gln', 'Thr', 'Thr', 'Val', 'Ser', 'Ala', 'Asn', 'Val', 'Leu', 'Asn', 'Ile', 'Glu', 'Asp', 'Phe', 'Tyr', 'Lys', 'Asn', 'Ala', 'Asp', 'Asp', 'Ala', 'His', 'Thr', 'Ile', 'Pro', 'Glu', 'Ser', 'His', 'Leu', 'Ser', 'Arg', 'Arg', 'Arg', 'Ser', 'Arg', 'Ser', 'Arg', 'Ala', 'Thr', 'Ser', 'Asn', 'Ala', 'Gly', 'His', 'Ser', 'Ala', 'Asn', 'Thr', 'Gly', 'Ala', 'Thr', 'Asn', 'Gly', 'Arg', 'Thr', 'Thr', 'Gly', 'Ala', 'Gln', 'Thr', 'Asn', 'Met', 'Glu', 'Ser', 'Asn', 'Glu', 'Ser', 'Pro', 'Arg', 'Asn', 'Val', 'Pro', 'Ile', 'Met', 'Val', 'Lys', 'Pro', 'Lys', 'Thr', 'Leu', 'Tyr', 'Gln', 'Asn', 'Pro', 'Gln', 'Thr', 'Pro', 'Thr', 'Val', 'Leu', 'Pro', 'Ser', 'Thr', 'Tyr', 'His', 'Pro', 'Ile', 'Asn', 'Lys', 'Trp', 'Ser', 'Ser', 'Val', 'Lys', 'Asn', 'Thr', 'Tyr', 'Leu', 'Lys', 'Glu', 'Phe', 'Leu', 'Ala', 'Glu', 'Phe', 'Met', 'Gly', 'Thr', 'Met', 'Val', 'Met', 'Ile', 'Ile', 'Phe', 'Gly', 'Ser', 'Ala', 'Val', 'Val', 'Cys', 'Gln', 'Val', 'Asn', 'Val', 'Ala', 'Gly', 'Lys', 'Ile', 'Gln', 'Gln', 'Asp', 'Asn', 'Phe', 'Asn', 'Val', 'Ala', 'Leu', 'Asp', 'Asn', 'Leu', 'Asn', 'Val', 'Thr', 'Gly', 'Ser', 'Ser', 'Ala', 'Glu', 'Thr', 'Ile', 'Asp', 'Ala', 'Met', 'Lys', 'Ser', 'Leu', 'Thr', 'Ser', 'Leu', 'Val', 'Ser', 'Ser', 'Val', 'Ala', 'Gly', 'Gly', 'Thr', 'Phe', 'Asp', 'Asp', 'Val', 'Ala', 'Leu', 'Gly', 'Trp', 'Ala', 'Ala', 'Ala', 'Val', 'Val', 'Met', 'Gly', 'Tyr', 'Phe', 'Cys', 'Ala', 'Gly', 'Gly', 'Ser', 'Ala', 'Ile', 'Ser', 'Gly', 'Ala', 'His', 'Leu', 'Asn', 'Pro', 'Ser', 'Ile', 'Thr', 'Leu', 'Ala', 'Asn', 'Leu', 'Val', 'Tyr', 'Arg', 'Gly', 'Phe', 'Pro', 'Leu', 'Lys', 'Lys', 'Val', 'Pro', 'Tyr', 'Tyr', 'Phe', 'Ala', 'Gly', 'Gln', 'Leu', 'Ile', 'Gly', 'Ala', 'Phe', 'Thr', 'Gly', 'Ala', 'Leu', 'Ile', 'Leu', 'Phe', 'Ile', 'Trp', 'Tyr', 'His', 'Arg', 'Val', 'Leu', 'Gln', 'Glu', 'Ala', 'Tyr', 'Ser', 'Asp', 'Trp', 'Trp', 'Met', 'Asn', 'Glu', 'Ser', 'Val', 'Ala', 'Gly', 'Met', 'Phe', 'Cys', 'Val', 'Phe', 'Pro', 'Lys', 'Pro', 'Tyr', 'Leu', 'Ser', 'Ser', 'Gly', 'Arg', 'Gln', 'Phe', 'Phe', 'Ser', 'Glu', 'Phe', 'Leu', 'Cys', 'Gly', 'Ala', 'Met', 'Leu', 'Gln', 'Ala', 'Gly', 'Thr', 'Phe', 'Ala', 'Leu', 'Thr', 'Asp', 'Pro', 'Tyr', 'Thr', 'Cys', 'Leu', 'Ser', 'Ser', 'Asp', 'Val', 'Phe', 'Pro', 'Leu', 'Met', 'Met', 'Phe', 'Ile', 'Leu', 'Ile', 'Phe', 'Ile', 'Ile', 'Asn', 'Ala', 'Ser', 'Met', 'Ala', 'Tyr', 'Gln', 'Thr', 'Gly', 'Thr', 'Ala', 'Met', 'Asn', 'Leu', 'Ala', 'Arg', 'Asp', 'Leu', 'Gly', 'Pro', 'Arg', 'Leu', 'Ala', 'Leu', 'Tyr', 'Ala', 'Val', 'Gly', 'Phe', 'Asp', 'His', 'Lys', 'Met', 'Leu', 'Trp', 'Val', 'His', 'His', 'His', 'His', 'Phe', 'Phe', 'Trp', 'Val', 'Pro', 'Met', 'Val', 'Gly', 'Pro', 'Phe', 'Ile', 'Gly', 'Ala', 'Leu', 'Met', 'Gly', 'Gly', 'Leu', 'Val', 'Tyr', 'Glu', 'Val', 'Cys', 'Ile', 'Tyr', 'Gln', 'Gly', 'His', 'Glu', 'Ser', 'Pro', 'Val', 'Asn', 'Trp', 'Ser', 'Leu', 'Pro', 'Val', 'Tyr', 'Lys', 'Glu', 'Met', 'Ile', 'Met', 'Arg', 'Ala', 'Trp', 'Phe', 'Arg', 'Arg', 'Pro', 'Gly', 'Trp', 'Lys', 'Lys', 'Arg', 'Asn', 'Arg', 'Ala', 'Arg', 'Arg', 'Thr', 'Ser', 'Asp', 'Leu', 'Ser', 'Asp', 'Phe', 'Ser', 'Tyr', 'Asn', 'Asn', 'Asp', 'Asp', 'Asp', 'Glu', 'Glu', 'Phe', 'Gly', 'Glu', 'Arg', 'Met', 'Ala', 'Leu', 'Gln', 'Lys', 'Thr', 'Lys', 'Thr', 'Lys', 'Ser', 'Ser', 'Ile', 'Ser', 'Asp', 'Asn', 'Glu', 'Asn', 'Glu', 'Ala', 'Gly', 'Glu', 'Lys', 'Lys', 'Val', 'Gln', 'Phe', 'Lys', 'Ser', 'Val', 'Gln', 'Arg', 'Gly', 'Lys', 'Arg', 'Thr', 'Phe', 'Gly', 'Gly', 'Ile', 'Pro', 'Thr', 'Ile', 'Leu', 'Glu', 'Glu', 'Glu', 'Asp', 'Ser', 'Ile', 'Glu', 'Thr', 'Ala', 'Ser', 'Leu', 'Gly', 'Ala', 'Thr', 'Thr', 'Thr', 'Asp', 'Ser', 'Ile', 'Gly', 'Leu', 'Ser', 'Asp', 'Thr', 'Ser', 'Ser', 'Glu', 'Asp', 'Ser', 'His', 'Tyr', 'Gly', 'Asn', 'Ala', 'Lys', 'Lys', 'Val', 'Thr', 'Stop']\n",
      "\n",
      "['Met', 'Ser', 'Ile', 'Arg', 'Leu', 'Pro', 'Tyr', 'Ala', 'Val', 'Val', 'Ala', 'Ala', 'Asp', 'Leu', 'Asp', 'Gly', 'Ser', 'Leu', 'Leu', 'Thr', 'Leu', 'Glu', 'Ser', 'Arg', 'Ile', 'Ser', 'Ala', 'Arg', 'Ala', 'Lys', 'Ala', 'Thr', 'Leu', 'Gln', 'Arg', 'Leu', 'Ser', 'Ala', 'Lys', 'Gly', 'Val', 'His', 'Val', 'Val', 'Leu', 'Ala', 'Thr', 'Gly', 'Arg', 'His', 'Tyr', 'Pro', 'Glu', 'Val', 'Ala', 'Ile', 'Ile', 'Leu', 'Glu', 'Lys', 'Leu', 'Glu', 'Leu', 'Pro', 'Arg', 'Pro', 'Gly', 'Phe', 'Phe', 'Ile', 'Ala', 'Cys', 'Asn', 'Gly', 'Ala', 'Lys', 'Ala', 'Leu', 'Met', 'Gly', 'Gly', 'Asn', 'Thr', 'Phe', 'Pro', 'Ser', 'Ser', 'Arg', 'Ala', 'Ser', 'Gly', 'His', 'Gly', 'Asp', 'Val', 'Gly', 'Phe', 'Leu', 'Leu', 'Glu', 'Ser', 'Asp', 'Ile', 'Asp', 'Pro', 'Asp', 'Val', 'Val', 'Cys', 'Ser', 'Ile', 'Leu', 'Gln', 'Leu', 'Leu', 'Pro', 'Asp', 'Asp', 'Glu', 'Glu', 'Glu', 'Val', 'Asn', 'Thr', 'Asn', 'Leu', 'Phe', 'Gln', 'Ala', 'Asp', 'Glu', 'Trp', 'Lys', 'Ser', 'Ser', 'Leu', 'Asp', 'Trp', 'Leu', 'Asp', 'Gln', 'Leu', 'Arg', 'Tyr', 'His', 'Gln', 'Glu', 'Ser', 'Gly', 'Phe', 'Arg', 'Tyr', 'Ser', 'Val', 'Val', 'Lys', 'Pro', 'Arg', 'Thr', 'Leu', 'Val', 'Glu', 'Gln', 'Tyr', 'Arg', 'Leu', 'Tyr', 'Leu', 'Gln', 'Gln', 'Arg', 'Gly', 'Gly', 'Gly', 'Pro', 'Ser', 'Asn', 'Thr', 'Ser', 'Phe', 'Gln', 'Asn', 'Pro', 'Leu', 'Val', 'Lys', 'Val', 'Ala', 'Lys', 'Ile', 'Ala', 'Phe', 'Ile', 'Ser', 'Asp', 'Asn', 'Ser', 'Glu', 'Arg', 'Leu', 'Tyr', 'Glu', 'Leu', 'Trp', 'Lys', 'Arg', 'Ile', 'Arg', 'Val', 'Asp', 'Phe', 'Lys', 'Gly', 'Lys', 'Val', 'Glu', 'Val', 'Ala', 'Leu', 'Ser', 'Ser', 'Tyr', 'Cys', 'Leu', 'Asp', 'Val', 'Cys', 'Asn', 'Ala', 'Gly', 'Val', 'Thr', 'Lys', 'Gly', 'Asn', 'Ala', 'Ile', 'Lys', 'Gln', 'Leu', 'Leu', 'Pro', 'Arg', 'Leu', 'Gly', 'His', 'Asp', 'Gly', 'Ala', 'Pro', 'Val', 'Ser', 'Leu', 'Ala', 'Glu', 'Cys', 'Ile', 'Ala', 'Phe', 'Gly', 'Asp', 'Gly', 'Met', 'Asn', 'Asp', 'Lys', 'Glu', 'Met', 'Leu', 'Glu', 'Thr', 'Val', 'Gly', 'Lys', 'Gly', 'Cys', 'Ile', 'Met', 'Ser', 'Asn', 'Ala', 'Ser', 'Gln', 'Gln', 'Leu', 'Lys', 'Glu', 'Ala', 'Leu', 'Pro', 'His', 'Leu', 'Glu', 'Val', 'Ile', 'Gly', 'Ser', 'Asn', 'Ala', 'Thr', 'Asp', 'Val', 'Ile', 'Ala', 'Asn', 'Lys', 'Leu', 'Ser', 'Ser', 'Val', 'Phe', 'Glu', 'Leu', 'Asp', 'Stop']\n",
      "\n",
      "['Met', 'Ala', 'Ser', 'Ser', 'Ala', 'Ala', 'Val', 'Val', 'Glu', 'Ile', 'Ile', 'Asp', 'Glu', 'Asp', 'Asp', 'Asp', 'Asp', 'Thr', 'Ala', 'Ala', 'Ala', 'Thr', 'Pro', 'Leu', 'Ala', 'Val', 'His', 'Lys', 'Arg', 'Ser', 'His', 'Ala', 'Leu', 'Ala', 'Ala', 'Ala', 'Thr', 'Thr', 'Ala', 'Pro', 'Gly', 'Pro', 'Pro', 'Pro', 'Val', 'Asp', 'Ala', 'Ser', 'Arg', 'Ser', 'Val', 'Ser', 'Ala', 'Val', 'Ala', 'Asp', 'Thr', 'Pro', 'Arg', 'Ser', 'Ser', 'Val', 'Pro', 'Cys', 'Ser', 'Leu', 'Gly', 'Asn', 'Arg', 'Ala', 'Val', 'Ala', 'Asp', 'Asp', 'Thr', 'Pro', 'Asn', 'Ser', 'Val', 'Leu', 'Pro', 'Ser', 'Pro', 'Ser', 'His', 'Phe', 'Gly', 'Val', 'Ala', 'Asp', 'Ser', 'Ala', 'Thr', 'Pro', 'Arg', 'Ser', 'Asp', 'Val', 'Pro', 'Cys', 'Ser', 'Ile', 'Gly', 'Pro', 'Ala', 'Asp', 'Val', 'Val', 'Pro', 'Glu', 'Thr', 'Pro', 'Gly', 'Leu', 'Ala', 'Val', 'Pro', 'Arg', 'Leu', 'Ala', 'Ala', 'Pro', 'Pro', 'Ser', 'Val', 'Pro', 'Ala', 'Leu', 'Pro', 'Ser', 'Leu', 'Ala', 'Thr', 'Ala', 'Arg', 'Lys', 'Phe', 'Ser', 'Gly', 'Val', 'Pro', 'Cys', 'Pro', 'Ile', 'Ser', 'Leu', 'Asp', 'Ser', 'Asp', 'Glu', 'Glu', 'Leu', 'Asp', 'Asp', 'Thr', 'Leu', 'Ser', 'Arg', 'Glu', 'Asp', 'Leu', 'Thr', 'Lys', 'Ser', 'Pro', 'Ser', 'Asn', 'Met', 'Ala', 'Lys', 'Pro', 'Glu', 'Cys', 'Val', 'Ile', 'Gln', 'Pro', 'Trp', 'Thr', 'Ser', 'Ser', 'Cys', 'Thr', 'Asp', 'Lys', 'Val', 'Asp', 'Gly', 'Ala', 'Ser', 'Ser', 'Thr', 'Asp', 'Gln', 'Asn', 'Asn', 'Tyr', 'Ser', 'Lys', 'Ser', 'Tyr', 'Val', 'Glu', 'His', 'Gln', 'Ile', 'Pro', 'Leu', 'Ser', 'Gly', 'Cys', 'Lys', 'Asn', 'Tyr', 'Gly', 'Thr', 'Thr', 'Ser', 'Tyr', 'His', 'Gln', 'Pro', 'Leu', 'His', 'Ala', 'Asn', 'Phe', 'Pro', 'Arg', 'Glu', 'Asp', 'Ser', 'Ile', 'Leu', 'Lys', 'Glu', 'Ala', 'Asp', 'Pro', 'Phe', 'Thr', 'Asn', 'Lys', 'His', 'Cys', 'Pro', 'Gln', 'Glu', 'Glu', 'Asn', 'Val', 'Leu', 'Pro', 'Ile', 'Glu', 'Glu', 'Arg', 'Lys', 'Lys', 'Lys', 'Gln', 'Gln', 'Glu', 'Glu', 'Lys', 'Lys', 'Leu', 'Lys', 'Met', 'Glu', 'Lys', 'Lys', 'Ala', 'Arg', 'Leu', 'Met', 'Glu', 'Glu', 'Lys', 'Lys', 'Gln', 'Lys', 'Arg', 'Leu', 'Glu', 'Ser', 'Lys', 'Arg', 'Gln', 'Lys', 'Glu', 'Ala', 'Met', 'Lys', 'Ala', 'Glu', 'Gln', 'Ala', 'Ala', 'Leu', 'Lys', 'Lys', 'Leu', 'Asp', 'Lys', 'Glu', 'Lys', 'Arg', 'Lys', 'Trp', 'Glu', 'Ser', 'Gly', 'Lys', 'Phe', 'Ala', 'Thr', 'Lys', 'Ser', 'Ile', 'Val', 'Ile', 'Glu', 'Ile', 'Asp', 'Ser', 'Ser', 'Val', 'Ile', 'Glu', 'Ser', 'Gly', 'Ser', 'Val', 'Gly', 'Gly', 'His', 'Leu', 'Val', 'Gln', 'Arg', 'Phe', 'Ala', 'Glu', 'Lys', 'Gly', 'Leu', 'Leu', 'Tyr', 'Arg', 'Val', 'Thr', 'Ser', 'Asn', 'Ser', 'Ile', 'Arg', 'Gly', 'Ser', 'Ile', 'Leu', 'Trp', 'Asn', 'Met', 'Lys', 'Ile', 'Pro', 'Asp', 'Glu', 'Ile', 'Thr', 'Gln', 'Asn', 'Gln', 'Ala', 'Ser', 'Thr', 'Leu', 'Glu', 'Val', 'Pro', 'Tyr', 'Ile', 'Ile', 'Phe', 'Val', 'Leu', 'Gln', 'Ala', 'Glu', 'Glu', 'Phe', 'Cys', 'Asp', 'Leu', 'Val', 'Thr', 'Ala', 'Gly', 'Thr', 'Leu', 'Leu', 'Asp', 'His', 'Val', 'His', 'Lys', 'Val', 'Arg', 'Ser', 'Gln', 'Tyr', 'Pro', 'Glu', 'Phe', 'Thr', 'Ile', 'Cys', 'Tyr', 'Val', 'Thr', 'Asn', 'Lys', 'Leu', 'Met', 'Ser', 'Tyr', 'Ile', 'Lys', 'Arg', 'Arg', 'Glu', 'Gln', 'Ser', 'Gln', 'Tyr', 'Asn', 'Lys', 'Asn', 'Val', 'Pro', 'Asn', 'Ser', 'Asn', 'Gly', 'Trp', 'Lys', 'Arg', 'Pro', 'Pro', 'Val', 'Glu', 'Glu', 'Gly', 'Leu', 'Cys', 'Lys', 'Leu', 'Ala', 'Thr', 'Asp', 'Cys', 'Val', 'Arg', 'Val', 'His', 'Ser', 'Arg', 'Gln', 'Cys', 'Thr', 'Asp', 'Glu', 'Ala', 'Glu', 'Val', 'Ala', 'Glu', 'His', 'Val', 'Val', 'Gly', 'Leu', 'Thr', 'Tyr', 'Ser', 'Leu', 'Ala', 'Asn', 'Cys', 'Lys', 'Phe', 'Arg', 'His', 'Pro', 'Leu', 'Thr', 'Trp', 'Leu', 'Ser', 'Val', 'His', 'Ala', 'Asn', 'Gly', 'Ser', 'Ser', 'Ile', 'Lys', 'Gly', 'Ile', 'Glu', 'Lys', 'Asp', 'Lys', 'Ile', 'Lys', 'Lys', 'Ser', 'Pro', 'Trp', 'Leu', 'Lys', 'Ser', 'Leu', 'Val', 'Ala', 'Ile', 'Pro', 'Arg', 'Val', 'Asn', 'Pro', 'Gly', 'His', 'Ala', 'Ile', 'Ala', 'Ile', 'Glu', 'Lys', 'Lys', 'Tyr', 'Pro', 'Ser', 'Met', 'Arg', 'Ser', 'Leu', 'Leu', 'Asn', 'Val', 'Tyr', 'Met', 'Asp', 'Asp', 'Asn', 'Lys', 'Ser', 'Val', 'His', 'Glu', 'Lys', 'Glu', 'His', 'Leu', 'Leu', 'Glu', 'Asp', 'Leu', 'Met', 'Leu', 'Glu', 'Gly', 'Pro', 'Leu', 'Gly', 'Asp', 'Leu', 'Asn', 'Arg', 'Arg', 'Leu', 'Gly', 'Pro', 'Ala', 'Cys', 'Ser', 'Lys', 'Arg', 'Val', 'Tyr', 'Arg', 'Ile', 'Leu', 'Met', 'Ala', 'Gln', 'Asn', 'Gly', 'Ala', 'Ala', 'Glu', 'Val', 'Glu', 'Ala', 'Asp', 'Lys', 'Arg', 'Stop']\n",
      "\n",
      "['Met', 'Ala', 'Leu', 'Leu', 'Phe', 'Ile', 'Leu', 'Phe', 'Arg', 'Stop']\n",
      "\n",
      "['Met', 'Phe', 'Leu', 'Val', 'Leu', 'Lys', 'Pro', 'Leu', 'Leu', 'Ser', 'Met', 'Ala', 'Gly', 'Ala', 'Leu', 'Val', 'Cys', 'Ser', 'Leu', 'Val', 'Ile', 'Glu', 'Val', 'Ile', 'Ile', 'Thr', 'Stop']\n",
      "\n"
     ]
    }
   ],
   "source": [
    "def make_proteins(gene, output = False):\n",
    "    i = 0\n",
    "    proteins = []\n",
    "    while i < len(gene):\n",
    "        t = []\n",
    "        if gene[i] != 'Met':\n",
    "            i += 1\n",
    "            continue\n",
    "        else:\n",
    "            t.append('Met')\n",
    "            i += 1\n",
    "            while gene[i] != 'Stop':\n",
    "                t.append(gene[i])\n",
    "                i += 1\n",
    "            t.append('Stop')\n",
    "            proteins.append(t)\n",
    "    if output:\n",
    "        for p in proteins:\n",
    "            print(p, end='\\n\\n')\n",
    "        \n",
    "    return proteins\n",
    "        \n",
    "for gene in AASeqs:\n",
    "    make_proteins(gene, output = True)"
   ]
  },
  {
   "cell_type": "code",
   "execution_count": 15,
   "metadata": {},
   "outputs": [],
   "source": [
    "non_polar = [\n",
    "    'Gly',\n",
    "    'Ala',\n",
    "    'Pro',\n",
    "    'Val',\n",
    "    'Leu',\n",
    "    'Iso',\n",
    "    'Met',\n",
    "    'Trp',\n",
    "    'Phe'\n",
    "]\n"
   ]
  },
  {
   "cell_type": "code",
   "execution_count": 27,
   "metadata": {},
   "outputs": [
    {
     "name": "stdout",
     "output_type": "stream",
     "text": [
      "0.41492537313432837\n",
      "\n",
      "0.4634920634920635\n",
      "\n",
      "0.4\n",
      "0.7\n",
      "0.6296296296296297\n",
      "\n"
     ]
    }
   ],
   "source": [
    "for gene in AASeqs:\n",
    "    proteins = make_proteins(gene)\n",
    "    for pro in proteins:\n",
    "        p = 0\n",
    "        for aa in pro:\n",
    "            if aa in non_polar:\n",
    "                p += 1\n",
    "        p = p / len(pro)\n",
    "        print(p)\n",
    "    print()"
   ]
  },
  {
   "cell_type": "code",
   "execution_count": 29,
   "metadata": {},
   "outputs": [
    {
     "name": "stdout",
     "output_type": "stream",
     "text": [
      "670\n",
      "\n",
      "315\n",
      "\n",
      "610\n",
      "10\n",
      "27\n",
      "\n"
     ]
    }
   ],
   "source": [
    "for gene in AASeqs:\n",
    "    proteins = make_proteins(gene)\n",
    "    for pro in proteins:\n",
    "        print(len(pro))\n",
    "    print()"
   ]
  },
  {
   "cell_type": "code",
   "execution_count": null,
   "metadata": {},
   "outputs": [],
   "source": []
  }
 ],
 "metadata": {
  "kernelspec": {
   "display_name": "Python [conda root]",
   "language": "python",
   "name": "conda-root-py"
  },
  "language_info": {
   "codemirror_mode": {
    "name": "ipython",
    "version": 3
   },
   "file_extension": ".py",
   "mimetype": "text/x-python",
   "name": "python",
   "nbconvert_exporter": "python",
   "pygments_lexer": "ipython3",
   "version": "3.5.4"
  }
 },
 "nbformat": 4,
 "nbformat_minor": 2
}

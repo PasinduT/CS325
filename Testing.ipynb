{
 "cells": [
  {
   "cell_type": "code",
   "execution_count": 4,
   "metadata": {},
   "outputs": [],
   "source": [
    "import numpy as np\n",
    "from matplotlib import pyplot as plt"
   ]
  },
  {
   "cell_type": "code",
   "execution_count": 3,
   "metadata": {},
   "outputs": [
    {
     "name": "stdout",
     "output_type": "stream",
     "text": [
      "[['Met', 'Ser', 'Asn', 'Pro', 'Gln', 'Lys', 'Ala', 'Leu', 'Asn', 'Asp', 'Phe', 'Leu', 'Ser', 'Ser', 'Glu', 'Ser', 'Val', 'His', 'Thr', 'His', 'Asp', 'Ser', 'Ser', 'Arg', 'Lys', 'Gln', 'Ser', 'Asn', 'Lys', 'Gln', 'Ser', 'Ser', 'Asp', 'Glu', 'Gly', 'Arg', 'Ser', 'Ser', 'Ser', 'Gln', 'Pro', 'Ser', 'His', 'His', 'His', 'Ser', 'Gly', 'Gly', 'Thr', 'Asn', 'Asn', 'Ser', 'Asn', 'Asn', 'Asn', 'Asn', 'Asn', 'Asn', 'Asn', 'Asn', 'Asn', 'Ser', 'Asn', 'Asn', 'Asn', 'Asn', 'Asn', 'Gly', 'Asn', 'Asp', 'Gly', 'Gly', 'Asn', 'Asp', 'Asp', 'Asp', 'Tyr', 'Asp', 'Tyr', 'Glu', 'Met', 'Gln', 'Asp', 'Tyr', 'Arg', 'Pro', 'Ser', 'Pro', 'Gln', 'Ser', 'Ala', 'Arg', 'Pro', 'Thr', 'Pro', 'Thr', 'Tyr', 'Val', 'Pro', 'Gln', 'Tyr', 'Ser', 'Val', 'Glu', 'Ser', 'Gly', 'Thr', 'Ala', 'Phe', 'Pro', 'Ile', 'Gln', 'Glu', 'Val', 'Ile', 'Pro', 'Ser', 'Ala', 'Tyr', 'Ile', 'Asn', 'Thr', 'Gln', 'Asp', 'Ile', 'Asn', 'His', 'Lys', 'Asp', 'Asn', 'Gly', 'Pro', 'Pro', 'Ser', 'Ala', 'Ser', 'Ser', 'Asn', 'Arg', 'Ala', 'Phe', 'Arg', 'Pro', 'Arg', 'Gly', 'Gln', 'Thr', 'Thr', 'Val', 'Ser', 'Ala', 'Asn', 'Val', 'Leu', 'Asn', 'Ile', 'Glu', 'Asp', 'Phe', 'Tyr', 'Lys', 'Asn', 'Ala', 'Asp', 'Asp', 'Ala', 'His', 'Thr', 'Ile', 'Pro', 'Glu', 'Ser', 'His', 'Leu', 'Ser', 'Arg', 'Arg', 'Arg', 'Ser', 'Arg', 'Ser', 'Arg', 'Ala', 'Thr', 'Ser', 'Asn', 'Ala', 'Gly', 'His', 'Ser', 'Ala', 'Asn', 'Thr', 'Gly', 'Ala', 'Thr', 'Asn', 'Gly', 'Arg', 'Thr', 'Thr', 'Gly', 'Ala', 'Gln', 'Thr', 'Asn', 'Met', 'Glu', 'Ser', 'Asn', 'Glu', 'Ser', 'Pro', 'Arg', 'Asn', 'Val', 'Pro', 'Ile', 'Met', 'Val', 'Lys', 'Pro', 'Lys', 'Thr', 'Leu', 'Tyr', 'Gln', 'Asn', 'Pro', 'Gln', 'Thr', 'Pro', 'Thr', 'Val', 'Leu', 'Pro', 'Ser', 'Thr', 'Tyr', 'His', 'Pro', 'Ile', 'Asn', 'Lys', 'Trp', 'Ser', 'Ser', 'Val', 'Lys', 'Asn', 'Thr', 'Tyr', 'Leu', 'Lys', 'Glu', 'Phe', 'Leu', 'Ala', 'Glu', 'Phe', 'Met', 'Gly', 'Thr', 'Met', 'Val', 'Met', 'Ile', 'Ile', 'Phe', 'Gly', 'Ser', 'Ala', 'Val', 'Val', 'Cys', 'Gln', 'Val', 'Asn', 'Val', 'Ala', 'Gly', 'Lys', 'Ile', 'Gln', 'Gln', 'Asp', 'Asn', 'Phe', 'Asn', 'Val', 'Ala', 'Leu', 'Asp', 'Asn', 'Leu', 'Asn', 'Val', 'Thr', 'Gly', 'Ser', 'Ser', 'Ala', 'Glu', 'Thr', 'Ile', 'Asp', 'Ala', 'Met', 'Lys', 'Ser', 'Leu', 'Thr', 'Ser', 'Leu', 'Val', 'Ser', 'Ser', 'Val', 'Ala', 'Gly', 'Gly', 'Thr', 'Phe', 'Asp', 'Asp', 'Val', 'Ala', 'Leu', 'Gly', 'Trp', 'Ala', 'Ala', 'Ala', 'Val', 'Val', 'Met', 'Gly', 'Tyr', 'Phe', 'Cys', 'Ala', 'Gly', 'Gly', 'Ser', 'Ala', 'Ile', 'Ser', 'Gly', 'Ala', 'His', 'Leu', 'Asn', 'Pro', 'Ser', 'Ile', 'Thr', 'Leu', 'Ala', 'Asn', 'Leu', 'Val', 'Tyr', 'Arg', 'Gly', 'Phe', 'Pro', 'Leu', 'Lys', 'Lys', 'Val', 'Pro', 'Tyr', 'Tyr', 'Phe', 'Ala', 'Gly', 'Gln', 'Leu', 'Ile', 'Gly', 'Ala', 'Phe', 'Thr', 'Gly', 'Ala', 'Leu', 'Ile', 'Leu', 'Phe', 'Ile', 'Trp', 'Tyr', 'His', 'Arg', 'Val', 'Leu', 'Gln', 'Glu', 'Ala', 'Tyr', 'Ser', 'Asp', 'Trp', 'Trp', 'Met', 'Asn', 'Glu', 'Ser', 'Val', 'Ala', 'Gly', 'Met', 'Phe', 'Cys', 'Val', 'Phe', 'Pro', 'Lys', 'Pro', 'Tyr', 'Leu', 'Ser', 'Ser', 'Gly', 'Arg', 'Gln', 'Phe', 'Phe', 'Ser', 'Glu', 'Phe', 'Leu', 'Cys', 'Gly', 'Ala', 'Met', 'Leu', 'Gln', 'Ala', 'Gly', 'Thr', 'Phe', 'Ala', 'Leu', 'Thr', 'Asp', 'Pro', 'Tyr', 'Thr', 'Cys', 'Leu', 'Ser', 'Ser', 'Asp', 'Val', 'Phe', 'Pro', 'Leu', 'Met', 'Met', 'Phe', 'Ile', 'Leu', 'Ile', 'Phe', 'Ile', 'Ile', 'Asn', 'Ala', 'Ser', 'Met', 'Ala', 'Tyr', 'Gln', 'Thr', 'Gly', 'Thr', 'Ala', 'Met', 'Asn', 'Leu', 'Ala', 'Arg', 'Asp', 'Leu', 'Gly', 'Pro', 'Arg', 'Leu', 'Ala', 'Leu', 'Tyr', 'Ala', 'Val', 'Gly', 'Phe', 'Asp', 'His', 'Lys', 'Met', 'Leu', 'Trp', 'Val', 'His', 'His', 'His', 'His', 'Phe', 'Phe', 'Trp', 'Val', 'Pro', 'Met', 'Val', 'Gly', 'Pro', 'Phe', 'Ile', 'Gly', 'Ala', 'Leu', 'Met', 'Gly', 'Gly', 'Leu', 'Val', 'Tyr', 'Glu', 'Val', 'Cys', 'Ile', 'Tyr', 'Gln', 'Gly', 'His', 'Glu', 'Ser', 'Pro', 'Val', 'Asn', 'Trp', 'Ser', 'Leu', 'Pro', 'Val', 'Tyr', 'Lys', 'Glu', 'Met', 'Ile', 'Met', 'Arg', 'Ala', 'Trp', 'Phe', 'Arg', 'Arg', 'Pro', 'Gly', 'Trp', 'Lys', 'Lys', 'Arg', 'Asn', 'Arg', 'Ala', 'Arg', 'Arg', 'Thr', 'Ser', 'Asp', 'Leu', 'Ser', 'Asp', 'Phe', 'Ser', 'Tyr', 'Asn', 'Asn', 'Asp', 'Asp', 'Asp', 'Glu', 'Glu', 'Phe', 'Gly', 'Glu', 'Arg', 'Met', 'Ala', 'Leu', 'Gln', 'Lys', 'Thr', 'Lys', 'Thr', 'Lys', 'Ser', 'Ser', 'Ile', 'Ser', 'Asp', 'Asn', 'Glu', 'Asn', 'Glu', 'Ala', 'Gly', 'Glu', 'Lys', 'Lys', 'Val', 'Gln', 'Phe', 'Lys', 'Ser', 'Val', 'Gln', 'Arg', 'Gly', 'Lys', 'Arg', 'Thr', 'Phe', 'Gly', 'Gly', 'Ile', 'Pro', 'Thr', 'Ile', 'Leu', 'Glu', 'Glu', 'Glu', 'Asp', 'Ser', 'Ile', 'Glu', 'Thr', 'Ala', 'Ser', 'Leu', 'Gly', 'Ala', 'Thr', 'Thr', 'Thr', 'Asp', 'Ser', 'Ile', 'Gly', 'Leu', 'Ser', 'Asp', 'Thr', 'Ser', 'Ser', 'Glu', 'Asp', 'Ser', 'His', 'Tyr', 'Gly', 'Asn', 'Ala', 'Lys', 'Lys', 'Val', 'Thr', '*'], ['Met', 'Ser', 'Ile', 'Arg', 'Leu', 'Pro', 'Tyr', 'Ala', 'Val', 'Val', 'Ala', 'Ala', 'Asp', 'Leu', 'Asp', 'Gly', 'Ser', 'Leu', 'Leu', 'Thr', 'Leu', 'Glu', 'Ser', 'Arg', 'Ile', 'Ser', 'Ala', 'Arg', 'Ala', 'Lys', 'Ala', 'Thr', 'Leu', 'Gln', 'Arg', 'Leu', 'Ser', 'Ala', 'Lys', 'Gly', 'Val', 'His', 'Val', 'Val', 'Leu', 'Ala', 'Thr', 'Gly', 'Arg', 'His', 'Tyr', 'Pro', 'Glu', 'Val', 'Ala', 'Ile', 'Ile', 'Leu', 'Glu', 'Lys', 'Leu', 'Glu', 'Leu', 'Pro', 'Arg', 'Pro', 'Gly', 'Phe', 'Phe', 'Ile', 'Ala', 'Cys', 'Asn', 'Gly', 'Ala', 'Lys', 'Ala', 'Leu', 'Met', 'Gly', 'Gly', 'Asn', 'Thr', 'Phe', 'Pro', 'Ser', 'Ser', 'Arg', 'Ala', 'Ser', 'Gly', 'His', 'Gly', 'Asp', 'Val', 'Gly', 'Phe', 'Leu', 'Leu', 'Glu', 'Ser', 'Asp', 'Ile', 'Asp', 'Pro', 'Asp', 'Val', 'Val', 'Cys', 'Ser', 'Ile', 'Leu', 'Gln', 'Leu', 'Leu', 'Pro', 'Asp', 'Asp', 'Glu', 'Glu', 'Glu', 'Val', 'Asn', 'Thr', 'Asn', 'Leu', 'Phe', 'Gln', 'Ala', 'Asp', 'Glu', 'Trp', 'Lys', 'Ser', 'Ser', 'Leu', 'Asp', 'Trp', 'Leu', 'Asp', 'Gln', 'Leu', 'Arg', 'Tyr', 'His', 'Gln', 'Glu', 'Ser', 'Gly', 'Phe', 'Arg', 'Tyr', 'Ser', 'Val', 'Val', 'Lys', 'Pro', 'Arg', 'Thr', 'Leu', 'Val', 'Glu', 'Gln', 'Tyr', 'Arg', 'Leu', 'Tyr', 'Leu', 'Gln', 'Gln', 'Arg', 'Gly', 'Gly', 'Gly', 'Pro', 'Ser', 'Asn', 'Thr', 'Ser', 'Phe', 'Gln', 'Asn', 'Pro', 'Leu', 'Val', 'Lys', 'Val', 'Ala', 'Lys', 'Ile', 'Ala', 'Phe', 'Ile', 'Ser', 'Asp', 'Asn', 'Ser', 'Glu', 'Arg', 'Leu', 'Tyr', 'Glu', 'Leu', 'Trp', 'Lys', 'Arg', 'Ile', 'Arg', 'Val', 'Asp', 'Phe', 'Lys', 'Gly', 'Lys', 'Val', 'Glu', 'Val', 'Ala', 'Leu', 'Ser', 'Ser', 'Tyr', 'Cys', 'Leu', 'Asp', 'Val', 'Cys', 'Asn', 'Ala', 'Gly', 'Val', 'Thr', 'Lys', 'Gly', 'Asn', 'Ala', 'Ile', 'Lys', 'Gln', 'Leu', 'Leu', 'Pro', 'Arg', 'Leu', 'Gly', 'His', 'Asp', 'Gly', 'Ala', 'Pro', 'Val', 'Ser', 'Leu', 'Ala', 'Glu', 'Cys', 'Ile', 'Ala', 'Phe', 'Gly', 'Asp', 'Gly', 'Met', 'Asn', 'Asp', 'Lys', 'Glu', 'Met', 'Leu', 'Glu', 'Thr', 'Val', 'Gly', 'Lys', 'Gly', 'Cys', 'Ile', 'Met', 'Ser', 'Asn', 'Ala', 'Ser', 'Gln', 'Gln', 'Leu', 'Lys', 'Glu', 'Ala', 'Leu', 'Pro', 'His', 'Leu', 'Glu', 'Val', 'Ile', 'Gly', 'Ser', 'Asn', 'Ala', 'Thr', 'Asp', 'Val', 'Ile', 'Ala', 'Asn', 'Lys', 'Leu', 'Ser', 'Ser', 'Val', 'Phe', 'Glu', 'Leu', 'Asp', '*'], ['Met', 'Ala', 'Ser', 'Ser', 'Ala', 'Ala', 'Val', 'Val', 'Glu', 'Ile', 'Ile', 'Asp', 'Glu', 'Asp', 'Asp', 'Asp', 'Asp', 'Thr', 'Ala', 'Ala', 'Ala', 'Thr', 'Pro', 'Leu', 'Ala', 'Val'], ['Val', 'Ala', 'Asp', 'Thr', 'Pro', 'Arg', 'Ser', 'Ser', 'Val', 'Pro', 'Cys', 'Ser', 'Leu', 'Gly', 'Asn', 'Arg', 'Ala', 'Val', 'Ala', 'Asp', 'Asp', 'Thr', 'Pro', 'Asn', 'Ser', 'Val', 'Leu', 'Pro', 'Ser', 'Pro', 'Ser', 'His', 'Phe', 'Gly', 'Val', 'Ala', 'Asp', 'Ser', 'Ala', 'Thr', 'Pro', 'Arg', 'Ser', 'Asp', 'Val', 'Pro', 'Cys', 'Ser'], []]\n"
     ]
    }
   ],
   "source": [
    "# Reads RNA in FASTA format from a file\n",
    "# Parameter filename: A string containing the relative path of the file from where\n",
    "# this program is stored\n",
    "# Return: The RNA sequences contained in the file in list format\n",
    "def readFile(filename):\n",
    "    # Open the file\n",
    "    f = open(filename, \"r\")\n",
    "    genes = []\n",
    "    for x in f:\n",
    "        if x is not \"\\n\":\n",
    "            genes.append(f.readline())\n",
    "    f.close()\n",
    "    return genes\n",
    "\n",
    "#Sets up a dictionary that matches 3 RNA nucleotides to their corresponding\n",
    "#amino acid or to Stop\n",
    "#Return: The dictionary after being set up\n",
    "def setUpTable():\n",
    "    table = {}\n",
    "    for key in [\"UUU\", \"UUC\"]:\n",
    "        table[key] = \"Phe\"\n",
    "    for key in [\"UUA\", \"UUG\", \"CUU\", \"CUC\", \"CUA\", \"CUG\"]:\n",
    "        table[key] = \"Leu\"\n",
    "    for key in [\"AUU\", \"AUC\", \"AUA\"]:\n",
    "        table[key] = \"Ile\"\n",
    "    for key in [\"AUG\"]:\n",
    "        table[key] = \"Met\"\n",
    "    for key in [\"GUU\", \"GUC\", \"GUA\", \"GUG\"]:\n",
    "        table[key] = \"Val\"\n",
    "    for key in [\"UCU\", \"UCC\", \"UCA\", \"UCG\", \"AGU\", \"AGC\"]:\n",
    "        table[key] = \"Ser\"\n",
    "    for key in [\"CCU\", \"CCC\", \"CCA\", \"CCG\"]:\n",
    "        table[key] = \"Pro\"\n",
    "    for key in [\"ACU\", \"ACC\", \"ACA\", \"ACG\"]:\n",
    "        table[key] = \"Thr\"\n",
    "    for key in [\"GCU\", \"GCC\", \"GCA\", \"GCG\"]:\n",
    "        table[key] = \"Ala\"\n",
    "    for key in [\"UAU\", \"UAC\"]:\n",
    "        table[key] = \"Tyr\"\n",
    "    for key in [\"CAU\", \"CAC\"]:\n",
    "        table[key] = \"His\"\n",
    "    for key in [\"CAA\", \"CAG\"]:\n",
    "        table[key] = \"Gln\"\n",
    "    for key in [\"AAU\", \"AAC\"]:\n",
    "        table[key] = \"Asn\"\n",
    "    for key in [\"AAA\", \"AAG\"]:\n",
    "        table[key] = \"Lys\"\n",
    "    for key in [\"GAU\", \"GAC\"]:\n",
    "        table[key] = \"Asp\"\n",
    "    for key in [\"GAA\", \"GAG\"]:\n",
    "        table[key] = \"Glu\"\n",
    "    for key in [\"UGU\", \"UGC\"]:\n",
    "        table[key] = \"Cys\"\n",
    "    for key in [\"UGG\"]:\n",
    "        table[key] = \"Trp\"\n",
    "    for key in [\"CGU\", \"CGC\", \"CGA\", \"CGG\", \"AGA\", \"AGG\"]:\n",
    "        table[key] = \"Arg\"\n",
    "    for key in [\"GGU\", \"GGC\", \"GGA\", \"GGG\"]:\n",
    "        table[key] = \"Gly\"\n",
    "    for key in [\"UAA\", \"UAG\", \"UGA\"]:\n",
    "        table[key] = \"*\"\n",
    "    return table\n",
    "\n",
    "#Converts an RNA sequence into the corresponding amino acid sequence. Does not\n",
    "#yet handle stop codons besides adding stop\n",
    "#Parameter RNA: The RNA sequence in string format\n",
    "#Parameter table: The dictionary that pairs RNA to amino acids\n",
    "#Return: A list containing the amino acid sequence\n",
    "def convertToAAs(RNA, table):\n",
    "    # Initialize the\n",
    "    seq = []\n",
    "    current = 0\n",
    "    while current + 2 < len(RNA):\n",
    "        seq.append(table[RNA[current:current + 3]])\n",
    "        current += 3\n",
    "    return seq\n",
    "\n",
    "#Main\n",
    "genes = readFile(\"Assignment1Sequences.txt\")\n",
    "AATable = setUpTable()\n",
    "AASeqs = []\n",
    "for gene in genes:\n",
    "    AASeqs.append(convertToAAs(gene, AATable))\n",
    "print(AASeqs)"
   ]
  },
  {
   "cell_type": "code",
   "execution_count": 4,
   "metadata": {},
   "outputs": [
    {
     "name": "stdout",
     "output_type": "stream",
     "text": [
      "['Met', 'Ala', 'Ser', 'Ser', 'Ala', 'Ala', 'Val', 'Val', 'Glu', 'Ile', 'Ile', 'Asp', 'Glu', 'Asp', 'Asp', 'Asp', 'Asp', 'Thr', 'Ala', 'Ala', 'Ala', 'Thr', 'Pro', 'Leu', 'Ala', 'Val', 'His', 'Lys', 'Arg', 'Ser', 'His', 'Ala', 'Leu', 'Ala', 'Ala', 'Ala', 'Thr', 'Thr', 'Ala', 'Pro', 'Gly', 'Pro', 'Pro', 'Pro', 'Val', 'Asp', 'Ala', 'Ser', 'Arg', 'Ser', 'Val', 'Ser', 'Ala', 'Val', 'Ala', 'Asp', 'Thr', 'Pro', 'Arg', 'Ser', 'Ser', 'Val', 'Pro', 'Cys', 'Ser', 'Leu', 'Gly', 'Asn', 'Arg', 'Ala', 'Val', 'Ala', 'Asp', 'Asp', 'Thr', 'Pro', 'Asn', 'Ser', 'Val', 'Leu', 'Pro', 'Ser', 'Pro', 'Ser', 'His', 'Phe', 'Gly', 'Val', 'Ala', 'Asp', 'Ser', 'Ala', 'Thr', 'Pro', 'Arg', 'Ser', 'Asp', 'Val', 'Pro', 'Cys', 'Ser', 'Ile', 'Gly', 'Pro', 'Ala', 'Asp', 'Val', 'Val', 'Pro', 'Glu', 'Thr', 'Pro', 'Gly', 'Leu', 'Ala', 'Val', 'Pro', 'Arg', 'Leu', 'Ala', 'Ala', 'Pro', 'Pro', 'Ser', 'Val', 'Pro', 'Ala', 'Leu', 'Pro', 'Ser', 'Leu', 'Ala', 'Thr', 'Ala', 'Arg', 'Lys', 'Phe', 'Ser', 'Gly', 'Val', 'Pro', 'Cys', 'Pro', 'Ile', 'Ser', 'Leu', 'Asp', 'Ser', 'Asp', 'Glu', 'Glu', 'Leu', 'Asp', 'Asp', 'Thr', 'Leu', 'Ser', 'Arg', 'Glu', 'Asp', 'Leu', 'Thr', 'Lys', 'Ser', 'Pro', 'Ser', 'Asn', 'Met', 'Ala', 'Lys', 'Pro', 'Glu', 'Cys', 'Val', 'Ile', 'Gln', 'Pro', 'Trp', 'Thr', 'Ser', 'Ser', 'Cys', 'Thr', 'Asp', 'Lys', 'Val', 'Asp', 'Gly', 'Ala', 'Ser', 'Ser', 'Thr', 'Asp', 'Gln', 'Asn', 'Asn', 'Tyr', 'Ser', 'Lys', 'Ser', 'Tyr', 'Val', 'Glu', 'His', 'Gln', 'Ile', 'Pro', 'Leu', 'Ser', 'Gly', 'Cys', 'Lys', 'Asn', 'Tyr', 'Gly', 'Thr', 'Thr', 'Ser', 'Tyr', 'His', 'Gln', 'Pro', 'Leu', 'His', 'Ala', 'Asn', 'Phe', 'Pro', 'Arg', 'Glu', 'Asp', 'Ser', 'Ile', 'Leu', 'Lys', 'Glu', 'Ala', 'Asp', 'Pro', 'Phe', 'Thr', 'Asn', 'Lys', 'His', 'Cys', 'Pro', 'Gln', 'Glu', 'Glu', 'Asn', 'Val', 'Leu', 'Pro', 'Ile', 'Glu', 'Glu', 'Arg', 'Lys', 'Lys', 'Lys', 'Gln', 'Gln', 'Glu', 'Glu', 'Lys', 'Lys', 'Leu', 'Lys', 'Met', 'Glu', 'Lys', 'Lys', 'Ala', 'Arg', 'Leu', 'Met', 'Glu', 'Glu', 'Lys', 'Lys', 'Gln', 'Lys', 'Arg', 'Leu', 'Glu', 'Ser', 'Lys', 'Arg', 'Gln', 'Lys', 'Glu', 'Ala', 'Met', 'Lys', 'Ala', 'Glu', 'Gln', 'Ala', 'Ala', 'Leu', 'Lys', 'Lys', 'Leu', 'Asp', 'Lys', 'Glu', 'Lys', 'Arg', 'Lys', 'Trp', 'Glu', 'Ser', 'Gly', 'Lys', 'Phe', 'Ala', 'Thr', 'Lys', 'Ser', 'Ile', 'Val', 'Ile', 'Glu', 'Ile', 'Asp', 'Ser', 'Ser', 'Val', 'Ile', 'Glu', 'Ser', 'Gly', 'Ser', 'Val', 'Gly', 'Gly', 'His', 'Leu', 'Val', 'Gln', 'Arg', 'Phe', 'Ala', 'Glu', 'Lys', 'Gly', 'Leu', 'Leu', 'Tyr', 'Arg', 'Val', 'Thr', 'Ser', 'Asn', 'Ser', 'Ile', 'Arg', 'Gly', 'Ser', 'Ile', 'Leu', 'Trp', 'Asn', 'Met', 'Lys', 'Ile', 'Pro', 'Asp', 'Glu', 'Ile', 'Thr', 'Gln', 'Asn', 'Gln', 'Ala', 'Ser', 'Thr', 'Leu', 'Glu', 'Val', 'Pro', 'Tyr', 'Ile', 'Ile', 'Phe', 'Val', 'Leu', 'Gln', 'Ala', 'Glu', 'Glu', 'Phe', 'Cys', 'Asp', 'Leu', 'Val', 'Thr', 'Ala', 'Gly', 'Thr', 'Leu', 'Leu', 'Asp', 'His', 'Val', 'His', 'Lys', 'Val', 'Arg', 'Ser', 'Gln', 'Tyr', 'Pro', 'Glu', 'Phe', 'Thr', 'Ile', 'Cys', 'Tyr', 'Val', 'Thr', 'Asn', 'Lys', 'Leu', 'Met', 'Ser', 'Tyr', 'Ile', 'Lys', 'Arg', 'Arg', 'Glu', 'Gln', 'Ser', 'Gln', 'Tyr', 'Asn', 'Lys', 'Asn', 'Val', 'Pro', 'Asn', 'Ser', 'Asn', 'Gly', 'Trp', 'Lys', 'Arg', 'Pro', 'Pro', 'Val', 'Glu', 'Glu', 'Gly', 'Leu', 'Cys', 'Lys', 'Leu', 'Ala', 'Thr', 'Asp', 'Cys', 'Val', 'Arg', 'Val', 'His', 'Ser', 'Arg', 'Gln', 'Cys', 'Thr', 'Asp', 'Glu', 'Ala', 'Glu', 'Val', 'Ala', 'Glu', 'His', 'Val', 'Val', 'Gly', 'Leu', 'Thr', 'Tyr', 'Ser', 'Leu', 'Ala', 'Asn', 'Cys', 'Lys', 'Phe', 'Arg', 'His', 'Pro', 'Leu', 'Thr', 'Trp', 'Leu', 'Ser', 'Val', 'His', 'Ala', 'Asn', 'Gly', 'Ser', 'Ser', 'Ile', 'Lys', 'Gly', 'Ile', 'Glu', 'Lys', 'Asp', 'Lys', 'Ile', 'Lys', 'Lys', 'Ser', 'Pro', 'Trp', 'Leu', 'Lys', 'Ser', 'Leu', 'Val', 'Ala', 'Ile', 'Pro', 'Arg', 'Val', 'Asn', 'Pro', 'Gly', 'His', 'Ala', 'Ile', 'Ala', 'Ile', 'Glu', 'Lys', 'Lys', 'Tyr', 'Pro', 'Ser', 'Met', 'Arg', 'Ser', 'Leu', 'Leu', 'Asn', 'Val', 'Tyr', 'Met', 'Asp', 'Asp', 'Asn', 'Lys', 'Ser', 'Val', 'His', 'Glu', 'Lys', 'Glu', 'His', 'Leu', 'Leu', 'Glu', 'Asp', 'Leu', 'Met', 'Leu', 'Glu', 'Gly', 'Pro', 'Leu', 'Gly', 'Asp', 'Leu', 'Asn', 'Arg', 'Arg', 'Leu', 'Gly', 'Pro', 'Ala', 'Cys', 'Ser', 'Lys', 'Arg', 'Val', 'Tyr', 'Arg', 'Ile', 'Leu', 'Met', 'Ala', 'Gln', 'Asn', 'Gly', 'Ala', 'Ala', 'Glu', 'Val', 'Glu', 'Ala', 'Asp', 'Lys', 'Arg', 'Stop', 'Gln', 'Trp', 'Ser', 'Leu', 'Ala', 'Lys', 'Ala', 'Phe', 'His', 'Ala', 'His', 'Cys', 'Tyr', 'Lys', 'Ser', 'Stop', 'Lys', 'Val', 'Asp', 'Val', 'Leu', 'Phe', 'Met', 'Ala', 'Leu', 'Leu', 'Phe', 'Ile', 'Leu', 'Phe', 'Arg', 'Stop', 'Ser', 'Phe', 'Lys', 'Val', 'Val', 'His', 'Thr', 'Met', 'Phe', 'Leu', 'Val', 'Leu', 'Lys', 'Pro', 'Leu', 'Leu', 'Ser', 'Met', 'Ala', 'Gly', 'Ala', 'Leu', 'Val', 'Cys', 'Ser', 'Leu', 'Val', 'Ile', 'Glu', 'Val', 'Ile', 'Ile', 'Thr', 'Stop', 'Arg', 'Thr', 'Trp', 'Asn', 'Leu', 'Leu', 'Leu', 'Asp', 'Ile']\n"
     ]
    }
   ],
   "source": [
    "print(AASeqs[2])"
   ]
  },
  {
   "cell_type": "code",
   "execution_count": 5,
   "metadata": {},
   "outputs": [
    {
     "name": "stdout",
     "output_type": "stream",
     "text": [
      "1......................................................................................................................................................................1....................................................................................................1......1................1......................................................................1............................................................1........................................................................................................................1.......1................1........................1.............2...............2......1........2.......1.........1...............2.........\n"
     ]
    }
   ],
   "source": [
    "gene3 = AASeqs[2]\n",
    "fstring = \"\"\n",
    "for aa in gene3:\n",
    "    if aa == 'Met':\n",
    "        fstring += '1'\n",
    "    elif aa == 'Stop':\n",
    "        fstring += '2'\n",
    "    else:\n",
    "        fstring += '.'\n",
    "        \n",
    "print(fstring)"
   ]
  },
  {
   "cell_type": "code",
   "execution_count": 7,
   "metadata": {},
   "outputs": [
    {
     "name": "stdout",
     "output_type": "stream",
     "text": [
      "['Met', 'Ser', 'Asn', 'Pro', 'Gln', 'Lys', 'Ala', 'Leu', 'Asn', 'Asp', 'Phe', 'Leu', 'Ser', 'Ser', 'Glu', 'Ser', 'Val', 'His', 'Thr', 'His', 'Asp', 'Ser', 'Ser', 'Arg', 'Lys', 'Gln', 'Ser', 'Asn', 'Lys', 'Gln', 'Ser', 'Ser', 'Asp', 'Glu', 'Gly', 'Arg', 'Ser', 'Ser', 'Ser', 'Gln', 'Pro', 'Ser', 'His', 'His', 'His', 'Ser', 'Gly', 'Gly', 'Thr', 'Asn', 'Asn', 'Ser', 'Asn', 'Asn', 'Asn', 'Asn', 'Asn', 'Asn', 'Asn', 'Asn', 'Asn', 'Ser', 'Asn', 'Asn', 'Asn', 'Asn', 'Asn', 'Gly', 'Asn', 'Asp', 'Gly', 'Gly', 'Asn', 'Asp', 'Asp', 'Asp', 'Tyr', 'Asp', 'Tyr', 'Glu', 'Met', 'Gln', 'Asp', 'Tyr', 'Arg', 'Pro', 'Ser', 'Pro', 'Gln', 'Ser', 'Ala', 'Arg', 'Pro', 'Thr', 'Pro', 'Thr', 'Tyr', 'Val', 'Pro', 'Gln', 'Tyr', 'Ser', 'Val', 'Glu', 'Ser', 'Gly', 'Thr', 'Ala', 'Phe', 'Pro', 'Ile', 'Gln', 'Glu', 'Val', 'Ile', 'Pro', 'Ser', 'Ala', 'Tyr', 'Ile', 'Asn', 'Thr', 'Gln', 'Asp', 'Ile', 'Asn', 'His', 'Lys', 'Asp', 'Asn', 'Gly', 'Pro', 'Pro', 'Ser', 'Ala', 'Ser', 'Ser', 'Asn', 'Arg', 'Ala', 'Phe', 'Arg', 'Pro', 'Arg', 'Gly', 'Gln', 'Thr', 'Thr', 'Val', 'Ser', 'Ala', 'Asn', 'Val', 'Leu', 'Asn', 'Ile', 'Glu', 'Asp', 'Phe', 'Tyr', 'Lys', 'Asn', 'Ala', 'Asp', 'Asp', 'Ala', 'His', 'Thr', 'Ile', 'Pro', 'Glu', 'Ser', 'His', 'Leu', 'Ser', 'Arg', 'Arg', 'Arg', 'Ser', 'Arg', 'Ser', 'Arg', 'Ala', 'Thr', 'Ser', 'Asn', 'Ala', 'Gly', 'His', 'Ser', 'Ala', 'Asn', 'Thr', 'Gly', 'Ala', 'Thr', 'Asn', 'Gly', 'Arg', 'Thr', 'Thr', 'Gly', 'Ala', 'Gln', 'Thr', 'Asn', 'Met', 'Glu', 'Ser', 'Asn', 'Glu', 'Ser', 'Pro', 'Arg', 'Asn', 'Val', 'Pro', 'Ile', 'Met', 'Val', 'Lys', 'Pro', 'Lys', 'Thr', 'Leu', 'Tyr', 'Gln', 'Asn', 'Pro', 'Gln', 'Thr', 'Pro', 'Thr', 'Val', 'Leu', 'Pro', 'Ser', 'Thr', 'Tyr', 'His', 'Pro', 'Ile', 'Asn', 'Lys', 'Trp', 'Ser', 'Ser', 'Val', 'Lys', 'Asn', 'Thr', 'Tyr', 'Leu', 'Lys', 'Glu', 'Phe', 'Leu', 'Ala', 'Glu', 'Phe', 'Met', 'Gly', 'Thr', 'Met', 'Val', 'Met', 'Ile', 'Ile', 'Phe', 'Gly', 'Ser', 'Ala', 'Val', 'Val', 'Cys', 'Gln', 'Val', 'Asn', 'Val', 'Ala', 'Gly', 'Lys', 'Ile', 'Gln', 'Gln', 'Asp', 'Asn', 'Phe', 'Asn', 'Val', 'Ala', 'Leu', 'Asp', 'Asn', 'Leu', 'Asn', 'Val', 'Thr', 'Gly', 'Ser', 'Ser', 'Ala', 'Glu', 'Thr', 'Ile', 'Asp', 'Ala', 'Met', 'Lys', 'Ser', 'Leu', 'Thr', 'Ser', 'Leu', 'Val', 'Ser', 'Ser', 'Val', 'Ala', 'Gly', 'Gly', 'Thr', 'Phe', 'Asp', 'Asp', 'Val', 'Ala', 'Leu', 'Gly', 'Trp', 'Ala', 'Ala', 'Ala', 'Val', 'Val', 'Met', 'Gly', 'Tyr', 'Phe', 'Cys', 'Ala', 'Gly', 'Gly', 'Ser', 'Ala', 'Ile', 'Ser', 'Gly', 'Ala', 'His', 'Leu', 'Asn', 'Pro', 'Ser', 'Ile', 'Thr', 'Leu', 'Ala', 'Asn', 'Leu', 'Val', 'Tyr', 'Arg', 'Gly', 'Phe', 'Pro', 'Leu', 'Lys', 'Lys', 'Val', 'Pro', 'Tyr', 'Tyr', 'Phe', 'Ala', 'Gly', 'Gln', 'Leu', 'Ile', 'Gly', 'Ala', 'Phe', 'Thr', 'Gly', 'Ala', 'Leu', 'Ile', 'Leu', 'Phe', 'Ile', 'Trp', 'Tyr', 'His', 'Arg', 'Val', 'Leu', 'Gln', 'Glu', 'Ala', 'Tyr', 'Ser', 'Asp', 'Trp', 'Trp', 'Met', 'Asn', 'Glu', 'Ser', 'Val', 'Ala', 'Gly', 'Met', 'Phe', 'Cys', 'Val', 'Phe', 'Pro', 'Lys', 'Pro', 'Tyr', 'Leu', 'Ser', 'Ser', 'Gly', 'Arg', 'Gln', 'Phe', 'Phe', 'Ser', 'Glu', 'Phe', 'Leu', 'Cys', 'Gly', 'Ala', 'Met', 'Leu', 'Gln', 'Ala', 'Gly', 'Thr', 'Phe', 'Ala', 'Leu', 'Thr', 'Asp', 'Pro', 'Tyr', 'Thr', 'Cys', 'Leu', 'Ser', 'Ser', 'Asp', 'Val', 'Phe', 'Pro', 'Leu', 'Met', 'Met', 'Phe', 'Ile', 'Leu', 'Ile', 'Phe', 'Ile', 'Ile', 'Asn', 'Ala', 'Ser', 'Met', 'Ala', 'Tyr', 'Gln', 'Thr', 'Gly', 'Thr', 'Ala', 'Met', 'Asn', 'Leu', 'Ala', 'Arg', 'Asp', 'Leu', 'Gly', 'Pro', 'Arg', 'Leu', 'Ala', 'Leu', 'Tyr', 'Ala', 'Val', 'Gly', 'Phe', 'Asp', 'His', 'Lys', 'Met', 'Leu', 'Trp', 'Val', 'His', 'His', 'His', 'His', 'Phe', 'Phe', 'Trp', 'Val', 'Pro', 'Met', 'Val', 'Gly', 'Pro', 'Phe', 'Ile', 'Gly', 'Ala', 'Leu', 'Met', 'Gly', 'Gly', 'Leu', 'Val', 'Tyr', 'Glu', 'Val', 'Cys', 'Ile', 'Tyr', 'Gln', 'Gly', 'His', 'Glu', 'Ser', 'Pro', 'Val', 'Asn', 'Trp', 'Ser', 'Leu', 'Pro', 'Val', 'Tyr', 'Lys', 'Glu', 'Met', 'Ile', 'Met', 'Arg', 'Ala', 'Trp', 'Phe', 'Arg', 'Arg', 'Pro', 'Gly', 'Trp', 'Lys', 'Lys', 'Arg', 'Asn', 'Arg', 'Ala', 'Arg', 'Arg', 'Thr', 'Ser', 'Asp', 'Leu', 'Ser', 'Asp', 'Phe', 'Ser', 'Tyr', 'Asn', 'Asn', 'Asp', 'Asp', 'Asp', 'Glu', 'Glu', 'Phe', 'Gly', 'Glu', 'Arg', 'Met', 'Ala', 'Leu', 'Gln', 'Lys', 'Thr', 'Lys', 'Thr', 'Lys', 'Ser', 'Ser', 'Ile', 'Ser', 'Asp', 'Asn', 'Glu', 'Asn', 'Glu', 'Ala', 'Gly', 'Glu', 'Lys', 'Lys', 'Val', 'Gln', 'Phe', 'Lys', 'Ser', 'Val', 'Gln', 'Arg', 'Gly', 'Lys', 'Arg', 'Thr', 'Phe', 'Gly', 'Gly', 'Ile', 'Pro', 'Thr', 'Ile', 'Leu', 'Glu', 'Glu', 'Glu', 'Asp', 'Ser', 'Ile', 'Glu', 'Thr', 'Ala', 'Ser', 'Leu', 'Gly', 'Ala', 'Thr', 'Thr', 'Thr', 'Asp', 'Ser', 'Ile', 'Gly', 'Leu', 'Ser', 'Asp', 'Thr', 'Ser', 'Ser', 'Glu', 'Asp', 'Ser', 'His', 'Tyr', 'Gly', 'Asn', 'Ala', 'Lys', 'Lys', 'Val', 'Thr', 'Stop']\n",
      "\n",
      "['Met', 'Ser', 'Ile', 'Arg', 'Leu', 'Pro', 'Tyr', 'Ala', 'Val', 'Val', 'Ala', 'Ala', 'Asp', 'Leu', 'Asp', 'Gly', 'Ser', 'Leu', 'Leu', 'Thr', 'Leu', 'Glu', 'Ser', 'Arg', 'Ile', 'Ser', 'Ala', 'Arg', 'Ala', 'Lys', 'Ala', 'Thr', 'Leu', 'Gln', 'Arg', 'Leu', 'Ser', 'Ala', 'Lys', 'Gly', 'Val', 'His', 'Val', 'Val', 'Leu', 'Ala', 'Thr', 'Gly', 'Arg', 'His', 'Tyr', 'Pro', 'Glu', 'Val', 'Ala', 'Ile', 'Ile', 'Leu', 'Glu', 'Lys', 'Leu', 'Glu', 'Leu', 'Pro', 'Arg', 'Pro', 'Gly', 'Phe', 'Phe', 'Ile', 'Ala', 'Cys', 'Asn', 'Gly', 'Ala', 'Lys', 'Ala', 'Leu', 'Met', 'Gly', 'Gly', 'Asn', 'Thr', 'Phe', 'Pro', 'Ser', 'Ser', 'Arg', 'Ala', 'Ser', 'Gly', 'His', 'Gly', 'Asp', 'Val', 'Gly', 'Phe', 'Leu', 'Leu', 'Glu', 'Ser', 'Asp', 'Ile', 'Asp', 'Pro', 'Asp', 'Val', 'Val', 'Cys', 'Ser', 'Ile', 'Leu', 'Gln', 'Leu', 'Leu', 'Pro', 'Asp', 'Asp', 'Glu', 'Glu', 'Glu', 'Val', 'Asn', 'Thr', 'Asn', 'Leu', 'Phe', 'Gln', 'Ala', 'Asp', 'Glu', 'Trp', 'Lys', 'Ser', 'Ser', 'Leu', 'Asp', 'Trp', 'Leu', 'Asp', 'Gln', 'Leu', 'Arg', 'Tyr', 'His', 'Gln', 'Glu', 'Ser', 'Gly', 'Phe', 'Arg', 'Tyr', 'Ser', 'Val', 'Val', 'Lys', 'Pro', 'Arg', 'Thr', 'Leu', 'Val', 'Glu', 'Gln', 'Tyr', 'Arg', 'Leu', 'Tyr', 'Leu', 'Gln', 'Gln', 'Arg', 'Gly', 'Gly', 'Gly', 'Pro', 'Ser', 'Asn', 'Thr', 'Ser', 'Phe', 'Gln', 'Asn', 'Pro', 'Leu', 'Val', 'Lys', 'Val', 'Ala', 'Lys', 'Ile', 'Ala', 'Phe', 'Ile', 'Ser', 'Asp', 'Asn', 'Ser', 'Glu', 'Arg', 'Leu', 'Tyr', 'Glu', 'Leu', 'Trp', 'Lys', 'Arg', 'Ile', 'Arg', 'Val', 'Asp', 'Phe', 'Lys', 'Gly', 'Lys', 'Val', 'Glu', 'Val', 'Ala', 'Leu', 'Ser', 'Ser', 'Tyr', 'Cys', 'Leu', 'Asp', 'Val', 'Cys', 'Asn', 'Ala', 'Gly', 'Val', 'Thr', 'Lys', 'Gly', 'Asn', 'Ala', 'Ile', 'Lys', 'Gln', 'Leu', 'Leu', 'Pro', 'Arg', 'Leu', 'Gly', 'His', 'Asp', 'Gly', 'Ala', 'Pro', 'Val', 'Ser', 'Leu', 'Ala', 'Glu', 'Cys', 'Ile', 'Ala', 'Phe', 'Gly', 'Asp', 'Gly', 'Met', 'Asn', 'Asp', 'Lys', 'Glu', 'Met', 'Leu', 'Glu', 'Thr', 'Val', 'Gly', 'Lys', 'Gly', 'Cys', 'Ile', 'Met', 'Ser', 'Asn', 'Ala', 'Ser', 'Gln', 'Gln', 'Leu', 'Lys', 'Glu', 'Ala', 'Leu', 'Pro', 'His', 'Leu', 'Glu', 'Val', 'Ile', 'Gly', 'Ser', 'Asn', 'Ala', 'Thr', 'Asp', 'Val', 'Ile', 'Ala', 'Asn', 'Lys', 'Leu', 'Ser', 'Ser', 'Val', 'Phe', 'Glu', 'Leu', 'Asp', 'Stop']\n",
      "\n",
      "['Met', 'Ala', 'Ser', 'Ser', 'Ala', 'Ala', 'Val', 'Val', 'Glu', 'Ile', 'Ile', 'Asp', 'Glu', 'Asp', 'Asp', 'Asp', 'Asp', 'Thr', 'Ala', 'Ala', 'Ala', 'Thr', 'Pro', 'Leu', 'Ala', 'Val', 'His', 'Lys', 'Arg', 'Ser', 'His', 'Ala', 'Leu', 'Ala', 'Ala', 'Ala', 'Thr', 'Thr', 'Ala', 'Pro', 'Gly', 'Pro', 'Pro', 'Pro', 'Val', 'Asp', 'Ala', 'Ser', 'Arg', 'Ser', 'Val', 'Ser', 'Ala', 'Val', 'Ala', 'Asp', 'Thr', 'Pro', 'Arg', 'Ser', 'Ser', 'Val', 'Pro', 'Cys', 'Ser', 'Leu', 'Gly', 'Asn', 'Arg', 'Ala', 'Val', 'Ala', 'Asp', 'Asp', 'Thr', 'Pro', 'Asn', 'Ser', 'Val', 'Leu', 'Pro', 'Ser', 'Pro', 'Ser', 'His', 'Phe', 'Gly', 'Val', 'Ala', 'Asp', 'Ser', 'Ala', 'Thr', 'Pro', 'Arg', 'Ser', 'Asp', 'Val', 'Pro', 'Cys', 'Ser', 'Ile', 'Gly', 'Pro', 'Ala', 'Asp', 'Val', 'Val', 'Pro', 'Glu', 'Thr', 'Pro', 'Gly', 'Leu', 'Ala', 'Val', 'Pro', 'Arg', 'Leu', 'Ala', 'Ala', 'Pro', 'Pro', 'Ser', 'Val', 'Pro', 'Ala', 'Leu', 'Pro', 'Ser', 'Leu', 'Ala', 'Thr', 'Ala', 'Arg', 'Lys', 'Phe', 'Ser', 'Gly', 'Val', 'Pro', 'Cys', 'Pro', 'Ile', 'Ser', 'Leu', 'Asp', 'Ser', 'Asp', 'Glu', 'Glu', 'Leu', 'Asp', 'Asp', 'Thr', 'Leu', 'Ser', 'Arg', 'Glu', 'Asp', 'Leu', 'Thr', 'Lys', 'Ser', 'Pro', 'Ser', 'Asn', 'Met', 'Ala', 'Lys', 'Pro', 'Glu', 'Cys', 'Val', 'Ile', 'Gln', 'Pro', 'Trp', 'Thr', 'Ser', 'Ser', 'Cys', 'Thr', 'Asp', 'Lys', 'Val', 'Asp', 'Gly', 'Ala', 'Ser', 'Ser', 'Thr', 'Asp', 'Gln', 'Asn', 'Asn', 'Tyr', 'Ser', 'Lys', 'Ser', 'Tyr', 'Val', 'Glu', 'His', 'Gln', 'Ile', 'Pro', 'Leu', 'Ser', 'Gly', 'Cys', 'Lys', 'Asn', 'Tyr', 'Gly', 'Thr', 'Thr', 'Ser', 'Tyr', 'His', 'Gln', 'Pro', 'Leu', 'His', 'Ala', 'Asn', 'Phe', 'Pro', 'Arg', 'Glu', 'Asp', 'Ser', 'Ile', 'Leu', 'Lys', 'Glu', 'Ala', 'Asp', 'Pro', 'Phe', 'Thr', 'Asn', 'Lys', 'His', 'Cys', 'Pro', 'Gln', 'Glu', 'Glu', 'Asn', 'Val', 'Leu', 'Pro', 'Ile', 'Glu', 'Glu', 'Arg', 'Lys', 'Lys', 'Lys', 'Gln', 'Gln', 'Glu', 'Glu', 'Lys', 'Lys', 'Leu', 'Lys', 'Met', 'Glu', 'Lys', 'Lys', 'Ala', 'Arg', 'Leu', 'Met', 'Glu', 'Glu', 'Lys', 'Lys', 'Gln', 'Lys', 'Arg', 'Leu', 'Glu', 'Ser', 'Lys', 'Arg', 'Gln', 'Lys', 'Glu', 'Ala', 'Met', 'Lys', 'Ala', 'Glu', 'Gln', 'Ala', 'Ala', 'Leu', 'Lys', 'Lys', 'Leu', 'Asp', 'Lys', 'Glu', 'Lys', 'Arg', 'Lys', 'Trp', 'Glu', 'Ser', 'Gly', 'Lys', 'Phe', 'Ala', 'Thr', 'Lys', 'Ser', 'Ile', 'Val', 'Ile', 'Glu', 'Ile', 'Asp', 'Ser', 'Ser', 'Val', 'Ile', 'Glu', 'Ser', 'Gly', 'Ser', 'Val', 'Gly', 'Gly', 'His', 'Leu', 'Val', 'Gln', 'Arg', 'Phe', 'Ala', 'Glu', 'Lys', 'Gly', 'Leu', 'Leu', 'Tyr', 'Arg', 'Val', 'Thr', 'Ser', 'Asn', 'Ser', 'Ile', 'Arg', 'Gly', 'Ser', 'Ile', 'Leu', 'Trp', 'Asn', 'Met', 'Lys', 'Ile', 'Pro', 'Asp', 'Glu', 'Ile', 'Thr', 'Gln', 'Asn', 'Gln', 'Ala', 'Ser', 'Thr', 'Leu', 'Glu', 'Val', 'Pro', 'Tyr', 'Ile', 'Ile', 'Phe', 'Val', 'Leu', 'Gln', 'Ala', 'Glu', 'Glu', 'Phe', 'Cys', 'Asp', 'Leu', 'Val', 'Thr', 'Ala', 'Gly', 'Thr', 'Leu', 'Leu', 'Asp', 'His', 'Val', 'His', 'Lys', 'Val', 'Arg', 'Ser', 'Gln', 'Tyr', 'Pro', 'Glu', 'Phe', 'Thr', 'Ile', 'Cys', 'Tyr', 'Val', 'Thr', 'Asn', 'Lys', 'Leu', 'Met', 'Ser', 'Tyr', 'Ile', 'Lys', 'Arg', 'Arg', 'Glu', 'Gln', 'Ser', 'Gln', 'Tyr', 'Asn', 'Lys', 'Asn', 'Val', 'Pro', 'Asn', 'Ser', 'Asn', 'Gly', 'Trp', 'Lys', 'Arg', 'Pro', 'Pro', 'Val', 'Glu', 'Glu', 'Gly', 'Leu', 'Cys', 'Lys', 'Leu', 'Ala', 'Thr', 'Asp', 'Cys', 'Val', 'Arg', 'Val', 'His', 'Ser', 'Arg', 'Gln', 'Cys', 'Thr', 'Asp', 'Glu', 'Ala', 'Glu', 'Val', 'Ala', 'Glu', 'His', 'Val', 'Val', 'Gly', 'Leu', 'Thr', 'Tyr', 'Ser', 'Leu', 'Ala', 'Asn', 'Cys', 'Lys', 'Phe', 'Arg', 'His', 'Pro', 'Leu', 'Thr', 'Trp', 'Leu', 'Ser', 'Val', 'His', 'Ala', 'Asn', 'Gly', 'Ser', 'Ser', 'Ile', 'Lys', 'Gly', 'Ile', 'Glu', 'Lys', 'Asp', 'Lys', 'Ile', 'Lys', 'Lys', 'Ser', 'Pro', 'Trp', 'Leu', 'Lys', 'Ser', 'Leu', 'Val', 'Ala', 'Ile', 'Pro', 'Arg', 'Val', 'Asn', 'Pro', 'Gly', 'His', 'Ala', 'Ile', 'Ala', 'Ile', 'Glu', 'Lys', 'Lys', 'Tyr', 'Pro', 'Ser', 'Met', 'Arg', 'Ser', 'Leu', 'Leu', 'Asn', 'Val', 'Tyr', 'Met', 'Asp', 'Asp', 'Asn', 'Lys', 'Ser', 'Val', 'His', 'Glu', 'Lys', 'Glu', 'His', 'Leu', 'Leu', 'Glu', 'Asp', 'Leu', 'Met', 'Leu', 'Glu', 'Gly', 'Pro', 'Leu', 'Gly', 'Asp', 'Leu', 'Asn', 'Arg', 'Arg', 'Leu', 'Gly', 'Pro', 'Ala', 'Cys', 'Ser', 'Lys', 'Arg', 'Val', 'Tyr', 'Arg', 'Ile', 'Leu', 'Met', 'Ala', 'Gln', 'Asn', 'Gly', 'Ala', 'Ala', 'Glu', 'Val', 'Glu', 'Ala', 'Asp', 'Lys', 'Arg', 'Stop']\n",
      "\n",
      "['Met', 'Ala', 'Leu', 'Leu', 'Phe', 'Ile', 'Leu', 'Phe', 'Arg', 'Stop']\n",
      "\n",
      "['Met', 'Phe', 'Leu', 'Val', 'Leu', 'Lys', 'Pro', 'Leu', 'Leu', 'Ser', 'Met', 'Ala', 'Gly', 'Ala', 'Leu', 'Val', 'Cys', 'Ser', 'Leu', 'Val', 'Ile', 'Glu', 'Val', 'Ile', 'Ile', 'Thr', 'Stop']\n",
      "\n"
     ]
    }
   ],
   "source": [
    "def make_proteins(gene, output = False):\n",
    "    i = 0\n",
    "    proteins = []\n",
    "    while i < len(gene):\n",
    "        t = []\n",
    "        if gene[i] != 'Met':\n",
    "            i += 1\n",
    "            continue\n",
    "        else:\n",
    "            t.append('Met')\n",
    "            i += 1\n",
    "            while gene[i] != 'Stop':\n",
    "                t.append(gene[i])\n",
    "                i += 1\n",
    "            t.append('Stop')\n",
    "            proteins.append(t)\n",
    "    if output:\n",
    "        for p in proteins:\n",
    "            print(p, end='\\n\\n')\n",
    "        \n",
    "    return proteins\n",
    "        \n",
    "for gene in AASeqs:\n",
    "    make_proteins(gene, output = True)"
   ]
  },
  {
   "cell_type": "code",
   "execution_count": 12,
   "metadata": {},
   "outputs": [],
   "source": [
    "non_polar = [\n",
    "    'Gly',\n",
    "    'Ala',\n",
    "    'Pro',\n",
    "    'Val',\n",
    "    'Leu',\n",
    "    'Ile',\n",
    "    'Met',\n",
    "    'Trp',\n",
    "    'Phe'\n",
    "]\n",
    "\n",
    "triple_letter_to_single_letter = {   \n",
    "    'Ala': 'A',\n",
    "    'Arg': 'R',\n",
    "    'Asn': 'N',\n",
    "    'Asp': 'D',\n",
    "    'Asx': 'B',\n",
    "    'Cys': 'C',\n",
    "    'Gln': 'Q',\n",
    "    'Glu': 'E',\n",
    "    'Glx': 'Z',\n",
    "    'Gly': 'G',\n",
    "    'His': 'H',\n",
    "    'Ile': 'I',\n",
    "    'Leu': 'L',\n",
    "    'Lys': 'K',\n",
    "    'Met': 'M',\n",
    "    'Phe': 'F',\n",
    "    'Pro': 'P',\n",
    "    'Ser': 'S',\n",
    "    'Thr': 'T',\n",
    "    'Trp': 'W',\n",
    "    'Tyr': 'Y',\n",
    "    'Val': 'V'\n",
    "}\n",
    "\n",
    "name_to_tripe_letter = {\n",
    "    'alanine': 'ala',\n",
    "    'arginine': 'arg',\n",
    "    'asparagine': 'asn',\n",
    "    'asparagine or aspartic acid': 'asx',\n",
    "    'aspartic acid': 'asp',\n",
    "    'cysteine': 'cys',\n",
    "    'glutamic acid': 'glu',\n",
    "    'glutamine': 'gln',\n",
    "    'glutamine or glutamic acid': 'glx',\n",
    "    'glycine': 'gly',\n",
    "    'histidine': 'his',\n",
    "    'isoleucine': 'ile',\n",
    "    'leucine': 'leu',\n",
    "    'lysine': 'lys',\n",
    "    'methionine': 'met',\n",
    "    'phenylalanine': 'phe',\n",
    "    'proline': 'pro',\n",
    "    'serine': 'ser',\n",
    "    'threonine': 'thr',\n",
    "    'tryptophan': 'trp',\n",
    "    'tyrosine': 'tyr',\n",
    "    'valine': 'val'\n",
    "}\n",
    "\n",
    "# Interface scale, Octanol scale, Octanol interface\n",
    "# https://en.wikipedia.org/wiki/Hydrophobicity_scales\n",
    "hydrophobic_scales = {   \n",
    "    'Ala': [0.17, 0.5, 0.33],\n",
    "    'Arg+': [0.81, 1.81, 1.0],\n",
    "    'Asn': [0.42, 0.85, 0.43],\n",
    "    'Asp-': [1.23, 3.64, 2.41],\n",
    "    'Asp': [-0.07, 0.43, 0.5],\n",
    "    'Cys': [-0.24, -0.02, 0.22],\n",
    "    'Gln': [0.58, 0.77, 0.19],\n",
    "    'Glu-': [2.02, 3.63, 1.61],\n",
    "    'Glu': [-0.01, 0.11, 0.12],\n",
    "    'Gly': [0.01, 1.15, 1.14],\n",
    "    'His+': [0.96, 2.33, 1.37],\n",
    "    'His': [0.17, 0.11, -0.06],\n",
    "    'Ile': [-0.31, -1.12, -0.81],\n",
    "    'Leu': [-0.56, -1.25, -0.69],\n",
    "    'Lys+': [0.99, 2.8, 1.81],\n",
    "    'Met': [-0.23, -0.67, -0.44],\n",
    "    'Phe': [-1.13, -1.71, -0.58],\n",
    "    'Pro': [0.45, 0.14, -0.31],\n",
    "    'Ser': [0.13, 0.46, 0.33],\n",
    "    'Thr': [0.14, 0.25, 0.11],\n",
    "    'Trp': [-1.85, -2.09, -0.24],\n",
    "    'Tyr': [-0.94, -0.71, 0.23],\n",
    "    'Val': [0.07, -0.46, -0.53]\n",
    "}\n",
    "\n",
    "\n"
   ]
  },
  {
   "cell_type": "code",
   "execution_count": 42,
   "metadata": {},
   "outputs": [
    {
     "name": "stdout",
     "output_type": "stream",
     "text": [
      "{   'Ala': [0.17, 0.5, 0.33],\n",
      "    'Arg+': [0.81, 1.81, 1.0],\n",
      "    'Asn': [0.42, 0.85, 0.43],\n",
      "    'Asp-': [1.23, 3.64, 2.41],\n",
      "    'Asp0': [-0.07, 0.43, 0.5],\n",
      "    'Cys': [-0.24, -0.02, 0.22],\n",
      "    'Gln': [0.58, 0.77, 0.19],\n",
      "    'Glu-': [2.02, 3.63, 1.61],\n",
      "    'Glu0': [-0.01, 0.11, 0.12],\n",
      "    'Gly': [0.01, 1.15, 1.14],\n",
      "    'His+': [0.96, 2.33, 1.37],\n",
      "    'His0': [0.17, 0.11, -0.06],\n",
      "    'Ile': [-0.31, -1.12, -0.81],\n",
      "    'Leu': [-0.56, -1.25, -0.69],\n",
      "    'Lys+': [0.99, 2.8, 1.81],\n",
      "    'Met': [-0.23, -0.67, -0.44],\n",
      "    'Phe': [-1.13, -1.71, -0.58],\n",
      "    'Pro': [0.45, 0.14, -0.31],\n",
      "    'Ser': [0.13, 0.46, 0.33],\n",
      "    'Thr': [0.14, 0.25, 0.11],\n",
      "    'Trp': [-1.85, -2.09, -0.24],\n",
      "    'Tyr': [-0.94, -0.71, 0.23],\n",
      "    'Val': [0.07, -0.46, -0.53]}\n"
     ]
    }
   ],
   "source": [
    "some = \"\"\"\n",
    "Ile\t−0.31\t−1.12\t−0.81\n",
    "Leu\t−0.56\t−1.25\t−0.69\n",
    "Phe\t−1.13\t−1.71\t−0.58\n",
    "Val\t0.07\t−0.46\t−0.53\n",
    "Met\t−0.23\t−0.67\t−0.44\n",
    "Pro\t0.45\t0.14\t−0.31\n",
    "Trp\t−1.85\t−2.09\t−0.24\n",
    "His0\t0.17\t0.11\t−0.06\n",
    "Thr\t0.14\t0.25\t0.11\n",
    "Glu0\t−0.01\t0.11\t0.12\n",
    "Gln\t0.58\t0.77\t0.19\n",
    "Cys\t−0.24\t−0.02\t0.22\n",
    "Tyr\t−0.94\t−0.71\t0.23\n",
    "Ala\t0.17\t0.50\t0.33\n",
    "Ser\t0.13\t0.46\t0.33\n",
    "Asn\t0.42\t0.85\t0.43\n",
    "Asp0\t−0.07\t0.43\t0.50\n",
    "Arg+\t0.81\t1.81\t1.00\n",
    "Gly\t0.01\t1.15\t1.14\n",
    "His+\t0.96\t2.33\t1.37\n",
    "Glu-\t2.02\t3.63\t1.61\n",
    "Lys+\t0.99\t2.80\t1.81\n",
    "Asp-\t1.23\t3.64\t2.41\n",
    "\"\"\"\n",
    "\n",
    "some = some.replace('−', '-')\n",
    "\n",
    "other = [s.split('\\t') for s in some.split('\\n') if len(s) > 0]\n",
    "noth = {}\n",
    "for s in other:\n",
    "    noth[s[0]] = list(map(float, s[1:]))\n",
    "pp.pprint(noth)"
   ]
  },
  {
   "cell_type": "code",
   "execution_count": 40,
   "metadata": {},
   "outputs": [
    {
     "data": {
      "text/plain": [
       "-0.31"
      ]
     },
     "execution_count": 40,
     "metadata": {},
     "output_type": "execute_result"
    }
   ],
   "source": [
    "float('-0.31')"
   ]
  },
  {
   "cell_type": "code",
   "execution_count": 9,
   "metadata": {},
   "outputs": [
    {
     "name": "stdout",
     "output_type": "stream",
     "text": [
      "0.41492537313432837\n",
      "\n",
      "0.4634920634920635\n",
      "\n",
      "0.4\n",
      "0.7\n",
      "0.6296296296296297\n",
      "\n"
     ]
    }
   ],
   "source": [
    "for gene in AASeqs:\n",
    "    proteins = make_proteins(gene)\n",
    "    for pro in proteins:\n",
    "        p = 0\n",
    "        for aa in pro:\n",
    "            if aa in non_polar:\n",
    "                p += 1\n",
    "        p = p / len(pro)\n",
    "        print(p)\n",
    "    print()"
   ]
  },
  {
   "cell_type": "code",
   "execution_count": 9,
   "metadata": {},
   "outputs": [
    {
     "name": "stdout",
     "output_type": "stream",
     "text": [
      "670\n",
      "\n",
      "315\n",
      "\n",
      "610\n",
      "10\n",
      "27\n",
      "\n"
     ]
    }
   ],
   "source": [
    "for gene in AASeqs:\n",
    "    proteins = make_proteins(gene)\n",
    "    for pro in proteins:\n",
    "        print(len(pro))\n",
    "    print()"
   ]
  },
  {
   "cell_type": "code",
   "execution_count": 10,
   "metadata": {},
   "outputs": [
    {
     "name": "stdout",
     "output_type": "stream",
     "text": [
      "M..P..AL..FL....V.................G.....P.....GG...................G..GG........M....P.P..A.P.P..VP...V..G.AFPI..VIP.A.I....I.....GPP.A....AF.P.G...V.A.VL.I..F...A..A..IP...L........A...AG..A..GA..G...GA...M.....P..VPIMV.P..L...P..P.VLP....PI..W..V....L..FLA.FMG.MVMIIFG.AVV..V.VAG.I....F.VAL..L.V.G..A..I.AM..L..LV..VAGG.F..VALGWAAAVVMG.F.AGG.AI.GA.L.P.I.LA.LV..GFPL..VP..FAG.LIGAF.GALILFIW...VL..A...WWM...VAGMF.VFP.P.L..G..FF..FL.GAML.AG.FAL..P...L...VFPLMMFILIFII.A.MA...G.AM.LA..LGP.LAL.AVGF...MLWV....FFWVPMVGPFIGALMGGLV..V.I..G...PV.W.LPV...MIM.AWF..PGW.....A.....L..F.........FG..MAL........I......AG...V.F..V..G...FGGIP.IL.....I..A.LGA.....IGL..........G.A..V..\n",
      "\n",
      "M.I.LP.AVVAA.L.G.LL.L...I.A.A.A.L..L.A.GV.VVLA.G...P.VAIIL..L.LP.PGFFIA..GA.ALMGG..FP...A.G.G.VGFLL...I.P.VV..IL.LLP.....V...LF.A..W...L.WL..L......GF...VV.P..LV....L.L...GGGP....F..PLV.VA.IAFI......L..LW..I.V.F.G.V.VAL....L.V..AGV..G.AI..LLP.LG..GAPV.LA..IAFG.GM....ML..VG.G.IM..A...L..ALP.L.VIG..A..VIA..L..VF.L..\n",
      "\n",
      "MA..AAVV.II.......AAA.PLAV.....ALAAA..APGPPPV.A...V.AVA..P...VP..LG..AVA...P..VLP.P..FGVA..A.P...VP..IGPA.VVP..PGLAVP.LAAPP.VPALP.LA.A..F.GVP.PI.L.....L...L....L...P..MA.P..VI.PW.......V.GA............V...IPL.G....G......PL.A.FP....IL..A.PF.....P....VLPI............L.M...A.LM.......L.......AM.A..AAL..L......W..G.FA...IVI.I...VI..G.VGG.LV..FA..GLL..V....I.G.ILW.M.IP..I....A..L.VP.IIFVL.A..F..LV.AG.LL..V..V....P.F.I..V...LM..I...........VP...GW..PPV..GL..LA...V.V........A.VA..VVGL...LA...F..PL.WL.V.A.G..I.GI....I...PWL..LVAIP.V.PG.AIAI....P.M..LL.V.M.....V.....LL..LML.GPLG.L...LGPA....V..ILMA..GAA.V.A....\n",
      "\n",
      "MALLFILF..\n",
      "\n",
      "MFLVL.PLL.MAGALV..LVI.VII..\n",
      "\n"
     ]
    }
   ],
   "source": [
    "# Show the non polar parts of the proteins\n",
    "for gene in AASeqs:\n",
    "    proteins = make_proteins(gene)\n",
    "    for pro in proteins:\n",
    "        for aa in pro:\n",
    "            if aa in non_polar:\n",
    "                print(triple_letter_to_single_letter[aa], end='')\n",
    "            else:\n",
    "                print('.', end='')\n",
    "        print('\\n')"
   ]
  },
  {
   "cell_type": "code",
   "execution_count": 11,
   "metadata": {},
   "outputs": [
    {
     "name": "stdout",
     "output_type": "stream",
     "text": [
      "Gly : [0.01, 1.15, 1.14]\n",
      "Ala : [0.17, 0.5, 0.33]\n",
      "Pro : [0.45, 0.14, -0.31]\n",
      "Val : [0.07, -0.46, -0.53]\n",
      "Leu : [-0.56, -1.25, -0.69]\n",
      "Ile : [-0.31, -1.12, -0.81]\n",
      "Met : [-0.23, -0.67, -0.44]\n",
      "Trp : [-1.85, -2.09, -0.24]\n",
      "Phe : [-1.13, -1.71, -0.58]\n"
     ]
    }
   ],
   "source": [
    "for aa in non_polar:\n",
    "    print('{} : {}'.format(aa, hydrophobic_scales[aa]))"
   ]
  },
  {
   "cell_type": "code",
   "execution_count": 14,
   "metadata": {},
   "outputs": [
    {
     "name": "stdout",
     "output_type": "stream",
     "text": [
      "[-0.23, 0.13, 0.42, 0.45, 0.58, 0, 0.17, -0.56, 0.42, -0.07]\n"
     ]
    },
    {
     "data": {
      "text/plain": [
       "[<matplotlib.lines.Line2D at 0x7ff1bd92ab70>]"
      ]
     },
     "execution_count": 14,
     "metadata": {},
     "output_type": "execute_result"
    },
    {
     "data": {
      "image/png": "[encoded data removed]",
      "text/plain": [
       "<Figure size 432x288 with 1 Axes>"
      ]
     },
     "metadata": {
      "needs_background": "light"
     },
     "output_type": "display_data"
    }
   ],
   "source": [
    "# See the hydrophobiciy of the amino acids of the protein made by the first gene [interface scale]\n",
    "gene1 = AASeqs[0]\n",
    "protein = make_proteins(gene1)[0][:-1]\n",
    "hydrophobic_nums = [hydrophobic_scales.get(aa, [0, 0, 0])[0] for aa in protein]\n",
    "print(hydrophobic_nums[:10])\n",
    "plt.plot(hydrophobic_nums)"
   ]
  },
  {
   "cell_type": "code",
   "execution_count": 15,
   "metadata": {},
   "outputs": [
    {
     "name": "stdout",
     "output_type": "stream",
     "text": [
      "[-0.67, 0.46, 0.85, 0.14, 0.77, 0, 0.5, -1.25, 0.85, 0.43]\n"
     ]
    },
    {
     "data": {
      "text/plain": [
       "[<matplotlib.lines.Line2D at 0x7ff1bda66c88>]"
      ]
     },
     "execution_count": 15,
     "metadata": {},
     "output_type": "execute_result"
    },
    {
     "data": {
      "image/png": "[encoded data removed]",
      "text/plain": [
       "<Figure size 432x288 with 1 Axes>"
      ]
     },
     "metadata": {
      "needs_background": "light"
     },
     "output_type": "display_data"
    }
   ],
   "source": [
    "# See the hydrophobiciy of the amino acids of the protein made by the first gene [octanol scale]\n",
    "gene1 = AASeqs[0]\n",
    "protein = make_proteins(gene1)[0][:-1]\n",
    "hydrophobic_nums = [hydrophobic_scales.get(aa, [0, 0, 0])[1] for aa in protein]\n",
    "print(hydrophobic_nums[:10])\n",
    "plt.plot(hydrophobic_nums)"
   ]
  },
  {
   "cell_type": "code",
   "execution_count": 16,
   "metadata": {},
   "outputs": [
    {
     "name": "stdout",
     "output_type": "stream",
     "text": [
      "[-0.44, 0.33, 0.43, -0.31, 0.19, 0, 0.33, -0.69, 0.43, 0.5]\n"
     ]
    },
    {
     "data": {
      "text/plain": [
       "[<matplotlib.lines.Line2D at 0x7ff1bda0a588>]"
      ]
     },
     "execution_count": 16,
     "metadata": {},
     "output_type": "execute_result"
    },
    {
     "data": {
      "image/png": "[encoded data removed]",
      "text/plain": [
       "<Figure size 432x288 with 1 Axes>"
      ]
     },
     "metadata": {
      "needs_background": "light"
     },
     "output_type": "display_data"
    }
   ],
   "source": [
    "# See the hydrophobiciy of the amino acids of the protein made by the first gene [Octanol - interface]\n",
    "gene1 = AASeqs[0]\n",
    "protein = make_proteins(gene1)[0][:-1]\n",
    "hydrophobic_nums = [hydrophobic_scales.get(aa, [0, 0, 0])[2] for aa in protein]\n",
    "print(hydrophobic_nums[:10])\n",
    "plt.plot(hydrophobic_nums)"
   ]
  },
  {
   "cell_type": "code",
   "execution_count": 5,
   "metadata": {},
   "outputs": [
    {
     "name": "stdout",
     "output_type": "stream",
     "text": [
      "{'Gene1': 'AUGAGUAAUCCUCAAAAAGCGCUAAACGACUUUCUGUCCAGUGAAUCUGUUCAUACACAUGAUAGUUCUAGGAAACAAUCUAACAAGCAGUCAUCCGACGAAGGACGCUCUUCAUCACAACCUUCACAUCAUCACUCUGGUGGUACUAACAACAGUAAUAACAAUAAUAAUAAUAAUAAUAACAGUAACAACAACAACAACGGCAACGAUGGGGGAAAUGAUGACGACUAUGAUUAUGAAAUGCAAGAUUAUAGACCUUCUCCGCAAAGUGCGCGGCCUACUCCCACGUAUGUUCCACAAUAUUCUGUAGAAAGUGGGACUGCUUUCCCGAUUCAAGAGGUUAUUCCUAGCGCAUACAUUAACACACAAGAUAUAAACCAUAAAGAUAACGGUCCGCCGAGUGCAAGCAGUAAUAGAGCAUUCAGGCCUAGAGGGCAGACCACAGUGUCGGCCAACGUGCUUAACAUUGAAGAUUUUUACAAAAAUGCAGACGAUGCGCAUACCAUCCCGGAGUCACAUUUGUCGAGAAGGAGAAGUAGGUCGAGGGCUACGAGUAAUGCUGGGCACAGUGCCAAUACAGGCGCCACGAAUGGCAGGACUACUGGUGCCCAAACUAAUAUGGAAAGCAAUGAAUCACCACGUAACGUCCCCAUUAUGGUGAAGCCAAAGACAUUAUACCAGAACCCUCAAACACCUACAGUCUUGCCCAGUACAUACCAUCCAAUUAAUAAAUGGUCUUCCGUCAAAAACACUUAUUUGAAGGAAUUUUUAGCCGAGUUUAUGGGAACAAUGGUUAUGAUUAUUUUCGGUAGUGCUGUUGUUUGUCAGGUCAAUGUUGCUGGGAAAAUACAGCAGGACAAUUUCAACGUGGCUUUGGAUAACCUUAACGUUACCGGGUCUUCUGCAGAAACGAUAGACGCUAUGAAGAGUUUAACAUCCUUGGUUUCAUCCGUUGCGGGCGGUACCUUUGAUGAUGUGGCAUUGGGCUGGGCUGCUGCCGUGGUGAUGGGCUAUUUCUGCGCUGGUGGUAGUGCCAUCUCAGGUGCUCAUUUGAAUCCGUCUAUUACAUUAGCCAAUUUGGUGUAUAGAGGUUUUCCCCUGAAGAAAGUUCCUUAUUACUUUGCUGGACAAUUGAUCGGUGCCUUCACAGGCGCUUUGAUCUUGUUUAUUUGGUACCAUAGGGUGUUACAAGAGGCAUAUAGCGAUUGGUGGAUGAAUGAAAGUGUUGCGGGAAUGUUUUGCGUUUUUCCAAAGCCUUAUCUAAGUUCAGGACGGCAAUUUUUUUCCGAAUUUUUAUGUGGAGCUAUGUUACAAGCAGGAACAUUUGCGCUGACCGAUCCUUAUACGUGUUUGUCCUCUGAUGUUUUCCCAUUGAUGAUGUUUAUUUUGAUUUUCAUUAUCAAUGCUUCCAUGGCUUAUCAGACAGGUACAGCAAUGAAUUUGGCUCGUGAUCUGGGCCCACGUCUUGCACUAUAUGCAGUUGGAUUUGAUCAUAAAAUGCUUUGGGUGCAUCAUCAUCAUUUCUUUUGGGUUCCCAUGGUAGGCCCAUUUAUUGGUGCGUUAAUGGGGGGGUUGGUUUACGAAGUCUGUAUUUAUCAGGGUCAUGAAUCUCCAGUCAACUGGUCUUUACCAGUUUAUAAGGAAAUGAUUAUGAGAGCCUGGUUCAGAAGGCCUGGUUGGAAGAAGAGAAAUAGAGCAAGAAGAACAUCGGACCUGAGUGACUUCUCAUACAAUAACGAUGAUGAUGAGGAAUUUGGAGAAAGAAUGGCUCUUCAAAAGACAAAGACCAAGUCAUCUAUUUCAGACAACGAAAAUGAAGCAGGAGAAAAGAAAGUGCAAUUUAAAUCUGUUCAGCGCGGCAAAAGAACGUUUGGUGGUAUACCAACAAUUCUUGAAGAAGAAGAUUCCAUUGAAACUGCUUCGCUAGGUGCGACGACGACUGAUUCUAUUGGGUUAUCCGACACAUCAUCAGAAGAUUCGCAUUAUGGUAAUGCUAAGAAGGUAACAUGA', 'Gene2': 'AUGUCGAUUCGGCUUCCAUACGCAGUGGUCGCGGCCGACUUGGAUGGGAGCUUGUUGACUCUCGAAAGCCGUAUCAGCGCACGCGCAAAGGCAACUCUGCAGCGUCUUUCAGCGAAGGGCGUGCAUGUUGUGUUGGCGACGGGGCGCCACUACCCCGAAGUCGCGAUCAUUCUGGAGAAGCUCGAGCUGCCGCGUCCUGGCUUCUUCAUUGCUUGCAAUGGGGCCAAGGCGCUCAUGGGUGGCAAUACUUUCCCGAGCAGCAGGGCAUCCGGCCAUGGUGACGUUGGAUUUCUCUUGGAGAGCGAUAUCGACCCUGAUGUGGUCUGCAGCAUACUGCAGCUUCUGCCGGAUGAUGAAGAGGAGGUUAACACCAACUUAUUUCAGGCGGAUGAGUGGAAGAGUAGUCUUGACUGGCUGGACCAACUCCGGUAUCACCAGGAGAGCGGCUUCCGCUACUCGGUGGUGAAGCCACGCACUCUUGUGGAGCAAUAUAGGCUCUAUCUGCAGCAGAGAGGUGGUGGGCCUAGUAAUACUAGUUUCCAGAAUCCGCUCGUGAAGGUCGCAAAGAUUGCGUUUAUCUCUGACAACAGUGAACGCCUCUACGAGCUGUGGAAACGCAUCAGAGUAGAUUUCAAAGGAAAGGUGGAAGUGGCACUUUCCUCCUACUGCUUGGACGUCUGCAAUGCGGGGGUAACGAAGGGGAAUGCCAUUAAGCAACUGCUGCCGCGGCUGGGACAUGACGGCGCACCAGUAUCCCUGGCGGAAUGCAUUGCCUUCGGCGACGGCAUGAACGACAAGGAGAUGCUGGAGACUGUGGGAAAAGGCUGCAUCAUGUCCAACGCGUCGCAACAAUUAAAGGAGGCGCUACCGCAUUUGGAGGUUAUCGGUUCGAACGCCACGGAUGUUAUUGCCAACAAACUGUCGAGUGUAUUUGAGCUUGACUGA', 'Gene3': 'AUGGCGUCCAGCGCCGCCGUCGUCGAGAUCAUCGACGAAGACGACGAUGACACCGCCGCCGCCACCCCUCUCGCUGUCCACAAGCGCUCCCAUGCGCUCGCCGCCGCCACCACCGCCCCAGGGCCGCCGCCCGUAGAUGCCAGUCGGUCUGUUUCCGCGGUGGCCGAUACGCCGCGGUCGUCCGUGCCGUGCUCGCUCGGCAACCGCGCCGUUGCGGAUGACACGCCCAAUUCUGUCCUGCCAAGUCCGUCCCACUUCGGCGUUGCCGAUUCUGCGACCCCUCGUUCGGAUGUCCCGUGCUCAAUCGGGCCUGCCGACGUUGUUCCUGAGACUCCCGGCCUCGCCGUCCCGCGCUUGGCUGCUCCCCCCUCUGUCCCUGCCUUACCUUCUCUUGCGACCGCGAGGAAAUUUUCUGGAGUACCUUGUCCAAUAUCUUUGGAUAGUGAUGAGGAAUUGGAUGACACUCUAUCCAGGGAGGAUUUAACCAAAUCACCAAGCAAUAUGGCAAAGCCAGAAUGCGUCAUUCAACCCUGGACUAGUUCCUGUACUGAUAAAGUUGAUGGAGCAUCAAGUACAGAUCAGAAUAAUUACUCAAAAUCAUAUGUGGAGCAUCAAAUACCCCUUUCUGGAUGUAAAAAUUAUGGAACAACCAGUUACCAUCAACCUCUGCAUGCUAAUUUUCCUCGUGAAGAUUCUAUCUUGAAGGAGGCUGAUCCUUUUACCAACAAGCAUUGUCCUCAGGAGGAGAAUGUUCUACCAAUUGAAGAAAGGAAGAAAAAACAACAGGAAGAGAAGAAACUAAAGAUGGAAAAGAAAGCCAGACUGAUGGAGGAAAAAAAGCAAAAACGACUGGAAAGCAAAAGGCAGAAGGAAGCUAUGAAAGCUGAACAAGCAGCAUUGAAGAAGUUGGACAAAGAAAAAAGAAAGUGGGAAUCAGGGAAGUUUGCUACUAAAUCUAUUGUAAUUGAGAUUGACUCCAGUGUUAUUGAAAGCGGCUCAGUUGGAGGUCAUCUUGUGCAAAGAUUUGCAGAGAAGGGACUUUUGUAUCGAGUUACAUCUAAUUCAAUCAGGGGGUCGAUUUUAUGGAAUAUGAAAAUUCCUGAUGAGAUCACCCAGAACCAAGCUUCAACAUUAGAAGUACCAUAUAUUAUCUUUGUGCUUCAAGCUGAGGAAUUCUGCGAUCUUGUGACCGCUGGUACAUUAUUGGACCAUGUUCACAAAGUUCGAAGUCAGUAUCCAGAAUUCACGAUUUGCUAUGUCACUAAUAAAUUGAUGAGCUACAUAAAAAGACGUGAGCAGAGUCAGUACAACAAGAACGUACCAAAUUCAAAUGGGUGGAAACGUCCACCAGUGGAAGAGGGUUUAUGCAAACUAGCAACGGAUUGUGUUAGGGUUCAUUCAAGGCAGUGCACUGAUGAAGCUGAAGUGGCAGAGCAUGUUGUUGGCUUGACAUAUAGUCUUGCAAAUUGCAAGUUCAGGCAUCCUUUGACAUGGUUAUCUGUGCAUGCUAACGGUUCAAGUAUUAAAGGCAUUGAGAAAGAUAAGAUUAAGAAAAGCCCCUGGCUAAAAUCUUUAGUUGCCAUUCCUAGAGUCAAUCCAGGACAUGCUAUUGCAAUUGAGAAGAAGUACCCGUCCAUGAGAUCAUUAUUGAAUGUGUAUAUGGAUGAUAAUAAAUCUGUUCAUGAAAAAGAGCAUUUGCUUGAAGAUUUGAUGUUGGAAGGCCCCCUGGGUGAUUUAAACAGAAGGCUCGGACCAGCAUGUUCUAAACGAGUGUACAGAAUUCUCAUGGCACAAAAUGGAGCGGCAGAAGUGGAGGCUGAUAAGCGAUAACAAUGGAGCUUAGCUAAAGCCUUCCAUGCUCACUGUUAUAAAUCAUGAAAGGUCGAUGUAUUAUUUAUGGCCCUUUUGUUCAUAUUGUUUAGAUGAAGUUUCAAGGUAGUUCAUACGAUGUUCCUGGUGCUGAAGCCAUUACUUUCUAUGGCUGGCGCUUUGGUAUGCUCUCUAGUCAUCGAAGUUAUCAUAACAUGACGGACAUGGAACCUUCUGCUAGAUAUC'}\n"
     ]
    }
   ],
   "source": [
    "def readFile(filename):\n",
    "    # Open the file and initialize the dictionary\n",
    "    file = open(filename, \"r\")\n",
    "    genes = {}\n",
    "    for line in file:\n",
    "        # Remove the newline characters and spaces at the end\n",
    "        line = line.strip()\n",
    "        \n",
    "        # If the line starts with the '>' character\n",
    "        # then we can start reading the RNA sequence that starts\n",
    "        # from the next line\n",
    "        if line.startswith('>'):\n",
    "    \n",
    "            # The FASTA format allows spaces, numbers and newlines\n",
    "            # between the RNA sequences\n",
    "            \n",
    "            # List to hold the gene lines\n",
    "            gene = []\n",
    "            \n",
    "            # Read the first line of the RNA string\n",
    "            gene_line = file.readline()\n",
    "            \n",
    "            # While the gene_line is not empty\n",
    "            while (gene_line):\n",
    "                # Clean the line\n",
    "                # - Remove the numbers\n",
    "                for i in range(10):\n",
    "                    gene_line = gene_line.replace(str(i), '')\n",
    "                    \n",
    "                # - Remove whitespace\n",
    "                gene_line = gene_line.replace(' ', '')\n",
    "                gene_line = gene_line.replace('\\n', '')\n",
    "                \n",
    "                # If the resulting line is not empty, add it to \n",
    "                # the list of gene_lines\n",
    "                if gene_line:\n",
    "                    gene.append(gene_line)\n",
    "                    \n",
    "                # Read the next line of RNA string\n",
    "                gene_line = (file.readline()).strip()\n",
    "                \n",
    "            # Add a new gene to the dictionary where\n",
    "            # Key:   The line that starts with '>' \n",
    "            #        ('>' character removed)\n",
    "            # Value: The RNA sequence of the gene\n",
    "            genes[line[1:]] = ''.join(gene)\n",
    "            \n",
    "    # Close the file and return the dictionary object\n",
    "    file.close()\n",
    "    return genes\n",
    "\n",
    "something = readFile('Assignment1Sequences.txt')\n",
    "print(something)"
   ]
  },
  {
   "cell_type": "code",
   "execution_count": 6,
   "metadata": {},
   "outputs": [
    {
     "name": "stdout",
     "output_type": "stream",
     "text": [
      "['M', 'S', 'N', 'P', 'Q', 'K', 'A', 'L', 'N', 'D', 'F', 'L', 'S', 'S', 'E', 'S', 'V', 'H', 'T', 'H', 'D', 'S', 'S', 'R', 'K', 'Q', 'S', 'N', 'K', 'Q', 'S', 'S', 'D', 'E', 'G', 'R', 'S', 'S', 'S', 'Q', 'P', 'S', 'H', 'H', 'H', 'S', 'G', 'G', 'T', 'N', 'N', 'S', 'N', 'N', 'N', 'N', 'N', 'N', 'N', 'N', 'N', 'S', 'N', 'N', 'N', 'N', 'N', 'G', 'N', 'D', 'G', 'G', 'N', 'D', 'D', 'D', 'Y', 'D', 'Y', 'E', 'M', 'Q', 'D', 'Y', 'R', 'P', 'S', 'P', 'Q', 'S', 'A', 'R', 'P', 'T', 'P', 'T', 'Y', 'V', 'P', 'Q', 'Y', 'S', 'V', 'E', 'S', 'G', 'T', 'A', 'F', 'P', 'I', 'Q', 'E', 'V', 'I', 'P', 'S', 'A', 'Y', 'I', 'N', 'T', 'Q', 'D', 'I', 'N', 'H', 'K', 'D', 'N', 'G', 'P', 'P', 'S', 'A', 'S', 'S', 'N', 'R', 'A', 'F', 'R', 'P', 'R', 'G', 'Q', 'T', 'T', 'V', 'S', 'A', 'N', 'V', 'L', 'N', 'I', 'E', 'D', 'F', 'Y', 'K', 'N', 'A', 'D', 'D', 'A', 'H', 'T', 'I', 'P', 'E', 'S', 'H', 'L', 'S', 'R', 'R', 'R', 'S', 'R', 'S', 'R', 'A', 'T', 'S', 'N', 'A', 'G', 'H', 'S', 'A', 'N', 'T', 'G', 'A', 'T', 'N', 'G', 'R', 'T', 'T', 'G', 'A', 'Q', 'T', 'N', 'M', 'E', 'S', 'N', 'E', 'S', 'P', 'R', 'N', 'V', 'P', 'I', 'M', 'V', 'K', 'P', 'K', 'T', 'L', 'Y', 'Q', 'N', 'P', 'Q', 'T', 'P', 'T', 'V', 'L', 'P', 'S', 'T', 'Y', 'H', 'P', 'I', 'N', 'K', 'W', 'S', 'S', 'V', 'K', 'N', 'T', 'Y', 'L', 'K', 'E', 'F', 'L', 'A', 'E', 'F', 'M', 'G', 'T', 'M', 'V', 'M', 'I', 'I', 'F', 'G', 'S', 'A', 'V', 'V', 'C', 'Q', 'V', 'N', 'V', 'A', 'G', 'K', 'I', 'Q', 'Q', 'D', 'N', 'F', 'N', 'V', 'A', 'L', 'D', 'N', 'L', 'N', 'V', 'T', 'G', 'S', 'S', 'A', 'E', 'T', 'I', 'D', 'A', 'M', 'K', 'S', 'L', 'T', 'S', 'L', 'V', 'S', 'S', 'V', 'A', 'G', 'G', 'T', 'F', 'D', 'D', 'V', 'A', 'L', 'G', 'W', 'A', 'A', 'A', 'V', 'V', 'M', 'G', 'Y', 'F', 'C', 'A', 'G', 'G', 'S', 'A', 'I', 'S', 'G', 'A', 'H', 'L', 'N', 'P', 'S', 'I', 'T', 'L', 'A', 'N', 'L', 'V', 'Y', 'R', 'G', 'F', 'P', 'L', 'K', 'K', 'V', 'P', 'Y', 'Y', 'F', 'A', 'G', 'Q', 'L', 'I', 'G', 'A', 'F', 'T', 'G', 'A', 'L', 'I', 'L', 'F', 'I', 'W', 'Y', 'H', 'R', 'V', 'L', 'Q', 'E', 'A', 'Y', 'S', 'D', 'W', 'W', 'M', 'N', 'E', 'S', 'V', 'A', 'G', 'M', 'F', 'C', 'V', 'F', 'P', 'K', 'P', 'Y', 'L', 'S', 'S', 'G', 'R', 'Q', 'F', 'F', 'S', 'E', 'F', 'L', 'C', 'G', 'A', 'M', 'L', 'Q', 'A', 'G', 'T', 'F', 'A', 'L', 'T', 'D', 'P', 'Y', 'T', 'C', 'L', 'S', 'S', 'D', 'V', 'F', 'P', 'L', 'M', 'M', 'F', 'I', 'L', 'I', 'F', 'I', 'I', 'N', 'A', 'S', 'M', 'A', 'Y', 'Q', 'T', 'G', 'T', 'A', 'M', 'N', 'L', 'A', 'R', 'D', 'L', 'G', 'P', 'R', 'L', 'A', 'L', 'Y', 'A', 'V', 'G', 'F', 'D', 'H', 'K', 'M', 'L', 'W', 'V', 'H', 'H', 'H', 'H', 'F', 'F', 'W', 'V', 'P', 'M', 'V', 'G', 'P', 'F', 'I', 'G', 'A', 'L', 'M', 'G', 'G', 'L', 'V', 'Y', 'E', 'V', 'C', 'I', 'Y', 'Q', 'G', 'H', 'E', 'S', 'P', 'V', 'N', 'W', 'S', 'L', 'P', 'V', 'Y', 'K', 'E', 'M', 'I', 'M', 'R', 'A', 'W', 'F', 'R', 'R', 'P', 'G', 'W', 'K', 'K', 'R', 'N', 'R', 'A', 'R', 'R', 'T', 'S', 'D', 'L', 'S', 'D', 'F', 'S', 'Y', 'N', 'N', 'D', 'D', 'D', 'E', 'E', 'F', 'G', 'E', 'R', 'M', 'A', 'L', 'Q', 'K', 'T', 'K', 'T', 'K', 'S', 'S', 'I', 'S', 'D', 'N', 'E', 'N', 'E', 'A', 'G', 'E', 'K', 'K', 'V', 'Q', 'F', 'K', 'S', 'V', 'Q', 'R', 'G', 'K', 'R', 'T', 'F', 'G', 'G', 'I', 'P', 'T', 'I', 'L', 'E', 'E', 'E', 'D', 'S', 'I', 'E', 'T', 'A', 'S', 'L', 'G', 'A', 'T', 'T', 'T', 'D', 'S', 'I', 'G', 'L', 'S', 'D', 'T', 'S', 'S', 'E', 'D', 'S', 'H', 'Y', 'G', 'N', 'A', 'K', 'K', 'V', 'T', '*']\n",
      "['M', 'S', 'I', 'R', 'L', 'P', 'Y', 'A', 'V', 'V', 'A', 'A', 'D', 'L', 'D', 'G', 'S', 'L', 'L', 'T', 'L', 'E', 'S', 'R', 'I', 'S', 'A', 'R', 'A', 'K', 'A', 'T', 'L', 'Q', 'R', 'L', 'S', 'A', 'K', 'G', 'V', 'H', 'V', 'V', 'L', 'A', 'T', 'G', 'R', 'H', 'Y', 'P', 'E', 'V', 'A', 'I', 'I', 'L', 'E', 'K', 'L', 'E', 'L', 'P', 'R', 'P', 'G', 'F', 'F', 'I', 'A', 'C', 'N', 'G', 'A', 'K', 'A', 'L', 'M', 'G', 'G', 'N', 'T', 'F', 'P', 'S', 'S', 'R', 'A', 'S', 'G', 'H', 'G', 'D', 'V', 'G', 'F', 'L', 'L', 'E', 'S', 'D', 'I', 'D', 'P', 'D', 'V', 'V', 'C', 'S', 'I', 'L', 'Q', 'L', 'L', 'P', 'D', 'D', 'E', 'E', 'E', 'V', 'N', 'T', 'N', 'L', 'F', 'Q', 'A', 'D', 'E', 'W', 'K', 'S', 'S', 'L', 'D', 'W', 'L', 'D', 'Q', 'L', 'R', 'Y', 'H', 'Q', 'E', 'S', 'G', 'F', 'R', 'Y', 'S', 'V', 'V', 'K', 'P', 'R', 'T', 'L', 'V', 'E', 'Q', 'Y', 'R', 'L', 'Y', 'L', 'Q', 'Q', 'R', 'G', 'G', 'G', 'P', 'S', 'N', 'T', 'S', 'F', 'Q', 'N', 'P', 'L', 'V', 'K', 'V', 'A', 'K', 'I', 'A', 'F', 'I', 'S', 'D', 'N', 'S', 'E', 'R', 'L', 'Y', 'E', 'L', 'W', 'K', 'R', 'I', 'R', 'V', 'D', 'F', 'K', 'G', 'K', 'V', 'E', 'V', 'A', 'L', 'S', 'S', 'Y', 'C', 'L', 'D', 'V', 'C', 'N', 'A', 'G', 'V', 'T', 'K', 'G', 'N', 'A', 'I', 'K', 'Q', 'L', 'L', 'P', 'R', 'L', 'G', 'H', 'D', 'G', 'A', 'P', 'V', 'S', 'L', 'A', 'E', 'C', 'I', 'A', 'F', 'G', 'D', 'G', 'M', 'N', 'D', 'K', 'E', 'M', 'L', 'E', 'T', 'V', 'G', 'K', 'G', 'C', 'I', 'M', 'S', 'N', 'A', 'S', 'Q', 'Q', 'L', 'K', 'E', 'A', 'L', 'P', 'H', 'L', 'E', 'V', 'I', 'G', 'S', 'N', 'A', 'T', 'D', 'V', 'I', 'A', 'N', 'K', 'L', 'S', 'S', 'V', 'F', 'E', 'L', 'D', '*']\n",
      "['M', 'A', 'S', 'S', 'A', 'A', 'V', 'V', 'E', 'I', 'I', 'D', 'E', 'D', 'D', 'D', 'D', 'T', 'A', 'A', 'A', 'T', 'P', 'L', 'A', 'V', 'H', 'K', 'R', 'S', 'H', 'A', 'L', 'A', 'A', 'A', 'T', 'T', 'A', 'P', 'G', 'P', 'P', 'P', 'V', 'D', 'A', 'S', 'R', 'S', 'V', 'S', 'A', 'V', 'A', 'D', 'T', 'P', 'R', 'S', 'S', 'V', 'P', 'C', 'S', 'L', 'G', 'N', 'R', 'A', 'V', 'A', 'D', 'D', 'T', 'P', 'N', 'S', 'V', 'L', 'P', 'S', 'P', 'S', 'H', 'F', 'G', 'V', 'A', 'D', 'S', 'A', 'T', 'P', 'R', 'S', 'D', 'V', 'P', 'C', 'S', 'I', 'G', 'P', 'A', 'D', 'V', 'V', 'P', 'E', 'T', 'P', 'G', 'L', 'A', 'V', 'P', 'R', 'L', 'A', 'A', 'P', 'P', 'S', 'V', 'P', 'A', 'L', 'P', 'S', 'L', 'A', 'T', 'A', 'R', 'K', 'F', 'S', 'G', 'V', 'P', 'C', 'P', 'I', 'S', 'L', 'D', 'S', 'D', 'E', 'E', 'L', 'D', 'D', 'T', 'L', 'S', 'R', 'E', 'D', 'L', 'T', 'K', 'S', 'P', 'S', 'N', 'M', 'A', 'K', 'P', 'E', 'C', 'V', 'I', 'Q', 'P', 'W', 'T', 'S', 'S', 'C', 'T', 'D', 'K', 'V', 'D', 'G', 'A', 'S', 'S', 'T', 'D', 'Q', 'N', 'N', 'Y', 'S', 'K', 'S', 'Y', 'V', 'E', 'H', 'Q', 'I', 'P', 'L', 'S', 'G', 'C', 'K', 'N', 'Y', 'G', 'T', 'T', 'S', 'Y', 'H', 'Q', 'P', 'L', 'H', 'A', 'N', 'F', 'P', 'R', 'E', 'D', 'S', 'I', 'L', 'K', 'E', 'A', 'D', 'P', 'F', 'T', 'N', 'K', 'H', 'C', 'P', 'Q', 'E', 'E', 'N', 'V', 'L', 'P', 'I', 'E', 'E', 'R', 'K', 'K', 'K', 'Q', 'Q', 'E', 'E', 'K', 'K', 'L', 'K', 'M', 'E', 'K', 'K', 'A', 'R', 'L', 'M', 'E', 'E', 'K', 'K', 'Q', 'K', 'R', 'L', 'E', 'S', 'K', 'R', 'Q', 'K', 'E', 'A', 'M', 'K', 'A', 'E', 'Q', 'A', 'A', 'L', 'K', 'K', 'L', 'D', 'K', 'E', 'K', 'R', 'K', 'W', 'E', 'S', 'G', 'K', 'F', 'A', 'T', 'K', 'S', 'I', 'V', 'I', 'E', 'I', 'D', 'S', 'S', 'V', 'I', 'E', 'S', 'G', 'S', 'V', 'G', 'G', 'H', 'L', 'V', 'Q', 'R', 'F', 'A', 'E', 'K', 'G', 'L', 'L', 'Y', 'R', 'V', 'T', 'S', 'N', 'S', 'I', 'R', 'G', 'S', 'I', 'L', 'W', 'N', 'M', 'K', 'I', 'P', 'D', 'E', 'I', 'T', 'Q', 'N', 'Q', 'A', 'S', 'T', 'L', 'E', 'V', 'P', 'Y', 'I', 'I', 'F', 'V', 'L', 'Q', 'A', 'E', 'E', 'F', 'C', 'D', 'L', 'V', 'T', 'A', 'G', 'T', 'L', 'L', 'D', 'H', 'V', 'H', 'K', 'V', 'R', 'S', 'Q', 'Y', 'P', 'E', 'F', 'T', 'I', 'C', 'Y', 'V', 'T', 'N', 'K', 'L', 'M', 'S', 'Y', 'I', 'K', 'R', 'R', 'E', 'Q', 'S', 'Q', 'Y', 'N', 'K', 'N', 'V', 'P', 'N', 'S', 'N', 'G', 'W', 'K', 'R', 'P', 'P', 'V', 'E', 'E', 'G', 'L', 'C', 'K', 'L', 'A', 'T', 'D', 'C', 'V', 'R', 'V', 'H', 'S', 'R', 'Q', 'C', 'T', 'D', 'E', 'A', 'E', 'V', 'A', 'E', 'H', 'V', 'V', 'G', 'L', 'T', 'Y', 'S', 'L', 'A', 'N', 'C', 'K', 'F', 'R', 'H', 'P', 'L', 'T', 'W', 'L', 'S', 'V', 'H', 'A', 'N', 'G', 'S', 'S', 'I', 'K', 'G', 'I', 'E', 'K', 'D', 'K', 'I', 'K', 'K', 'S', 'P', 'W', 'L', 'K', 'S', 'L', 'V', 'A', 'I', 'P', 'R', 'V', 'N', 'P', 'G', 'H', 'A', 'I', 'A', 'I', 'E', 'K', 'K', 'Y', 'P', 'S', 'M', 'R', 'S', 'L', 'L', 'N', 'V', 'Y', 'M', 'D', 'D', 'N', 'K', 'S', 'V', 'H', 'E', 'K', 'E', 'H', 'L', 'L', 'E', 'D', 'L', 'M', 'L', 'E', 'G', 'P', 'L', 'G', 'D', 'L', 'N', 'R', 'R', 'L', 'G', 'P', 'A', 'C', 'S', 'K', 'R', 'V', 'Y', 'R', 'I', 'L', 'M', 'A', 'Q', 'N', 'G', 'A', 'A', 'E', 'V', 'E', 'A', 'D', 'K', 'R', '*', 'Q', 'W', 'S', 'L', 'A', 'K', 'A', 'F', 'H', 'A', 'H', 'C', 'Y', 'K', 'S', '*', 'K', 'V', 'D', 'V', 'L', 'F', 'M', 'A', 'L', 'L', 'F', 'I', 'L', 'F', 'R', '*', 'S', 'F', 'K', 'V', 'V', 'H', 'T', 'M', 'F', 'L', 'V', 'L', 'K', 'P', 'L', 'L', 'S', 'M', 'A', 'G', 'A', 'L', 'V', 'C', 'S', 'L', 'V', 'I', 'E', 'V', 'I', 'I', 'T', '*', 'R', 'T', 'W', 'N', 'L', 'L', 'L', 'D', 'I']\n"
     ]
    }
   ],
   "source": [
    "triple_letter_to_single_letter = {   \n",
    "    'Ala': 'A',\n",
    "    'Arg': 'R',\n",
    "    'Asn': 'N',\n",
    "    'Asp': 'D',\n",
    "    'Asx': 'B',\n",
    "    'Cys': 'C',\n",
    "    'Gln': 'Q',\n",
    "    'Glu': 'E',\n",
    "    'Glx': 'Z',\n",
    "    'Gly': 'G',\n",
    "    'His': 'H',\n",
    "    'Ile': 'I',\n",
    "    'Leu': 'L',\n",
    "    'Lys': 'K',\n",
    "    'Met': 'M',\n",
    "    'Phe': 'F',\n",
    "    'Pro': 'P',\n",
    "    'Ser': 'S',\n",
    "    'Thr': 'T',\n",
    "    'Trp': 'W',\n",
    "    'Tyr': 'Y',\n",
    "    'Val': 'V',\n",
    "    '*'  : '*'\n",
    "}\n",
    "\n",
    "def convertToAAs(RNA, table, single_letter = False):\n",
    "    # Initialize the sequence to an empyt list \n",
    "    # and the index pointer to 0\n",
    "    \n",
    "    seq = []\n",
    "    current = 0\n",
    "    \n",
    "    # Loop over the RNA string length in multiples of 3\n",
    "    while current + 2 < len(RNA):\n",
    "        # Convert the RNA condones to amino acids using the\n",
    "        # look up table\n",
    "        if single_letter:\n",
    "            seq.append(triple_letter_to_single_letter[table[RNA[current:current + 3]]])\n",
    "        else:\n",
    "            seq.append(table[RNA[current:current + 3]])\n",
    "            \n",
    "        current += 3\n",
    "    \n",
    "    return seq\n",
    "\n",
    "table = setUpTable()\n",
    "for gene in something:\n",
    "    print(convertToAAs(something[gene], table, single_letter=True))"
   ]
  },
  {
   "cell_type": "code",
   "execution_count": 28,
   "metadata": {},
   "outputs": [],
   "source": [
    "hw_hydrophobicity = {   \n",
    "    'Ala': -0.5,\n",
    "    'Arg': 3.0,\n",
    "    'Asn': 0.2,\n",
    "    'Asp': 3.0,\n",
    "    'Cys': -1.0,\n",
    "    'Gln': 0.2,\n",
    "    'Glu': 3.0,\n",
    "    'Gly': 0.0,\n",
    "    'His': -0.5,\n",
    "    'Ile': -0.8,\n",
    "    'Leu': -1.8,\n",
    "    'Lys': -1.3,\n",
    "    'Met': 3.0,\n",
    "    'Phe': -2.5,\n",
    "    'Pro': 0.0,\n",
    "    'Ser': 0.3,\n",
    "    'Thr': -0.4,\n",
    "    'Trp': -3.4,\n",
    "    'Tyr': -2.3,\n",
    "    'Val': -1.5,\n",
    "    '*': 0\n",
    "}\n"
   ]
  },
  {
   "cell_type": "code",
   "execution_count": 34,
   "metadata": {},
   "outputs": [
    {
     "name": "stdout",
     "output_type": "stream",
     "text": [
      "[10, 10, 10, 10, 9, 10, 9, 8, 7, 8, 8, 7, 6, 6, 6, 7, 7, 6, 5, 4, 3, 4, 4, 5, 6, 6, 6, 7, 8, 8, 8, 8, 8, 8, 8, 7, 7, 7, 7, 7, 7, 6, 6, 5, 4, 3, 3, 2, 2, 1, 1, 2, 3, 3, 3, 3, 3, 4, 4, 5, 5, 5, 5, 5, 6, 6, 7, 7, 7, 7, 7, 7, 6, 7, 8, 9, 10, 10, 11, 11, 11, 12, 12, 13, 12, 12, 12, 13, 13, 14, 15, 15, 15, 14, 14, 14, 14, 13, 13, 13, 14, 13, 14, 13, 13, 14, 13, 13, 13, 12, 11, 11, 12, 13, 12, 12, 11, 11, 10, 9, 9, 10, 9, 10, 10, 10, 10, 10, 10, 11, 11, 11, 10, 10, 11, 10, 11, 11, 11, 12, 12, 12, 12, 12, 12, 11, 12, 12, 12, 12, 13, 12, 12, 12, 12, 12, 11, 11, 11, 10, 9, 8, 8, 8, 9, 9, 8, 8, 8, 8, 7, 8, 8, 8, 8, 9, 10, 10, 11, 11, 12, 13, 14, 14, 13, 14, 14, 13, 12, 11, 11, 10, 10, 10, 9, 8, 8, 9, 9, 9, 9, 9, 9, 9, 10, 10, 11, 11, 11, 12, 12, 13, 14, 14, 15, 16, 16, 15, 15, 16, 16, 16, 16, 15, 15, 15, 14, 14, 15, 15, 15, 15, 15, 15, 15, 14, 14, 15, 15, 14, 14, 13, 13, 14, 13, 13, 13, 14, 14, 14, 15, 14, 14, 14, 14, 15, 14, 14, 13, 14, 14, 15, 15, 15, 15, 14, 14, 13, 13, 12, 12, 13, 13, 12, 11, 11, 11, 11, 12, 12, 11, 10, 10, 9, 10, 11, 11, 12, 11, 12, 11, 11, 11, 11, 12, 12, 12, 11, 11, 11, 12, 13, 13, 14, 13, 12, 13, 13, 14, 14, 15, 15, 15, 16, 16, 16, 16, 17, 17, 17, 17, 17, 17, 17, 17, 18, 18, 17, 17, 17, 17, 17, 16, 16, 15, 15, 16, 16, 16, 15, 15, 15, 15, 14, 15, 15, 15, 16, 16, 16, 16, 16, 17, 17, 18, 18, 18, 17, 17, 18, 18, 18, 18, 19, 19, 19, 19, 19, 19, 19, 19, 19, 19, 19, 18, 18, 18, 18, 17, 17, 17, 16, 15, 15, 15, 14, 13, 12, 11, 11, 11, 11, 10, 10, 11, 11, 11, 12, 13, 13, 13, 14, 14, 13, 13, 13, 13, 14, 15, 14, 13, 13, 14, 14, 14, 14, 13, 13, 12, 12, 12, 12, 13, 14, 14, 15, 15, 15, 15, 16, 17, 17, 16, 15, 14, 14, 15, 15, 16, 15, 14, 14, 14, 14, 14, 14, 15, 15, 14, 14, 13, 12, 13, 14, 14, 14, 14, 14, 14, 14, 14, 14, 14, 13, 12, 12, 12, 12, 12, 12, 13, 14, 14, 14, 15, 15, 15, 14, 14, 15, 15, 15, 15, 16, 17, 17, 17, 17, 18, 18, 18, 18, 18, 17, 17, 17, 17, 18, 18, 18, 19, 19, 18, 18, 18, 18, 18, 18, 17, 17, 17, 17, 17, 17, 17, 17, 16, 15, 15, 15, 14, 14, 14, 14, 14, 14, 14, 14, 14, 13, 13, 12, 11, 12, 12, 12, 12, 12, 12, 12, 13, 13, 14, 13, 12, 11, 11, 10, 10, 11, 10, 10, 11, 10, 9, 9, 9, 10, 9, 8, 7, 6, 5, 5, 5, 6, 6, 6, 6, 5, 6, 7, 6, 7, 8, 8, 9, 9, 9, 9, 10, 10, 10, 10, 10, 9, 8, 9, 10, 10, 10, 10, 11, 10, 10, 10, 9, 9, 9, 9, 9, 10, 10, 11, 12, 13, 14, 14, 14, 15, 15, 15, 14, 14, 13, 12, 12, 12, 12, 13, 13, 12, 13, 13, 13, 13, 13, 13, 12, 11, 11, 11, 12, 12, 12, 13, 13, 12, 12, 11, 10, 11, 11, 11, 10, 10, 10, 10, 11, 12, 12, 0, 0, 0, 0, 0, 0, 0, 0, 0, 0, 0, 0, 0, 0, 0, 0, 0, 0, 0] 670\n"
     ]
    }
   ],
   "source": [
    "gene1 = convertToAAs(something['Gene1'], table, single_letter=False)\n",
    "\n",
    "hydrop_vals = [hw_hydrophobicity[aa] for aa in gene1]\n",
    "\n",
    "window_length = 20\n",
    "\n",
    "some = [0 for i in hydrop_vals]\n",
    "val = 0\n",
    "\n",
    "for i in range(window_length):\n",
    "    if (hydrop_vals[i] <= 0):\n",
    "        val += 1\n",
    "        \n",
    "some[0] = val\n",
    "\n",
    "for i in range(1, len(hydrop_vals) - window_length + 1):\n",
    "    val -= 1 if hydrop_vals[i-1] <= 0 else 0\n",
    "    val += 1 if hydrop_vals[i + 20 -1] <= 0 else 0\n",
    "    some[i] = val\n",
    "    \n",
    "print(some, len(some))\n",
    "    "
   ]
  }
 ],
 "metadata": {
  "kernelspec": {
   "display_name": "Python 3",
   "language": "python",
   "name": "python3"
  },
  "language_info": {
   "codemirror_mode": {
    "name": "ipython",
    "version": 3
   },
   "file_extension": ".py",
   "mimetype": "text/x-python",
   "name": "python",
   "nbconvert_exporter": "python",
   "pygments_lexer": "ipython3",
   "version": "3.7.3"
  }
 },
 "nbformat": 4,
 "nbformat_minor": 2
}
